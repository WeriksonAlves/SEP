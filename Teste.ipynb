{
 "cells": [
  {
   "cell_type": "code",
   "execution_count": 1,
   "metadata": {},
   "outputs": [],
   "source": [
    "import numpy as np\n",
    "from sympy import * #var, Lambda, exp, log, sin, cos, tan, sqrt, ln\n",
    "from Materia_da_P4 import *"
   ]
  },
  {
   "cell_type": "code",
   "execution_count": 2,
   "metadata": {},
   "outputs": [],
   "source": [
    "#Dados iniciais\n",
    "Barras = 3\n",
    "Impedancias = 2\n",
    "\n",
    "#                [      Tipo, V, teta,   P,   Q]\n",
    "Matriz_Barras = [[1, 'VTeta', 1,   0,  '?',   '?'],\n",
    "                 [2, 'PV',    1, '?',  0.2,   '?'],\n",
    "                 [3, 'PQ',  '?', '?', -0.15, 0.05]]\n",
    "\n",
    "#                [     k, m, Z_km]\n",
    "Matriz_Impedancias = [[1, 2, complex(0.012, 0.3)],\n",
    "                      [2, 3, complex(0.011, 0.8)]]\n",
    "\n",
    "y11 =  (Matriz_Impedancias[0][2])**(-1)\n",
    "y12 = -(Matriz_Impedancias[0][2])**(-1)\n",
    "y13 =  0\n",
    "y21 =  y12\n",
    "y22 =  (Matriz_Impedancias[0][2])**(-1) + (Matriz_Impedancias[1][2])**(-1)\n",
    "y23 = -(Matriz_Impedancias[1][2])**(-1)\n",
    "y31 =  y13\n",
    "y32 =  y23\n",
    "y33 =  (Matriz_Impedancias[1][2])**(-1)\n",
    "\n",
    "Y = np.array([[y11, y12,y13], [y21, y22, y23], [y31, y32, y33]])"
   ]
  },
  {
   "cell_type": "code",
   "execution_count": 7,
   "metadata": {},
   "outputs": [
    {
     "name": "stdout",
     "output_type": "stream",
     "text": [
      "\n",
      "Y =    0.1331 \n",
      "  -0.1331 \n",
      "   0.0000 \n",
      "  -0.1331 \n",
      "   0.1503 \n",
      "  -0.0172 \n",
      "   0.0000 \n",
      "  -0.0172 \n",
      "   0.0172 \n",
      "\n",
      "\n",
      "G = \n",
      "   0.1331 \n",
      "  -0.1331 \n",
      "   0.0000 \n",
      "  -0.1331 \n",
      "   0.1503 \n",
      "  -0.0172 \n",
      "   0.0000 \n",
      "  -0.0172 \n",
      "   0.0172 \n",
      "\n",
      "\n",
      "B = \n",
      "  -3.3280 \n",
      "   3.3280 \n",
      "   0.0000 \n",
      "   3.3280 \n",
      "  -4.5778 \n",
      "   1.2498 \n",
      "   0.0000 \n",
      "   1.2498 \n",
      "  -1.2498 \n",
      "\n"
     ]
    }
   ],
   "source": [
    "Ep = 0.001\n",
    "Eq = 0.001\n",
    "Q1 = Fluxo_de_carga(Ep, Eq)\n",
    "G, B = Q1.Admitancia(Y)"
   ]
  },
  {
   "cell_type": "code",
   "execution_count": 9,
   "metadata": {},
   "outputs": [
    {
     "ename": "TypeError",
     "evalue": "object of type 'Add' has no len()",
     "output_type": "error",
     "traceback": [
      "\u001b[1;31m---------------------------------------------------------------------------\u001b[0m",
      "\u001b[1;31mTypeError\u001b[0m                                 Traceback (most recent call last)",
      "\u001b[1;32m<ipython-input-9-b09b99a41c42>\u001b[0m in \u001b[0;36m<module>\u001b[1;34m\u001b[0m\n\u001b[0;32m     23\u001b[0m                       [Q_esp_3 - Q3(teta2,teta3,V3)]])\n\u001b[0;32m     24\u001b[0m \u001b[1;33m\u001b[0m\u001b[0m\n\u001b[1;32m---> 25\u001b[1;33m \u001b[0mDelta_P_Q\u001b[0m \u001b[1;33m=\u001b[0m \u001b[0mQ1\u001b[0m\u001b[1;33m.\u001b[0m\u001b[0mDelta_P_Q\u001b[0m\u001b[1;33m(\u001b[0m\u001b[0mDelta_P_Q\u001b[0m\u001b[1;33m)\u001b[0m\u001b[1;33m\u001b[0m\u001b[1;33m\u001b[0m\u001b[0m\n\u001b[0m",
      "\u001b[1;32mc:\\Users\\55329\\Documents\\GitHub\\SEP\\Materia_da_P4.py\u001b[0m in \u001b[0;36mDelta_P_Q\u001b[1;34m(self, Delta_P_Q)\u001b[0m\n\u001b[0;32m     35\u001b[0m     \u001b[1;32mdef\u001b[0m \u001b[0mDelta_P_Q\u001b[0m\u001b[1;33m(\u001b[0m\u001b[0mself\u001b[0m\u001b[1;33m,\u001b[0m \u001b[0mDelta_P_Q\u001b[0m\u001b[1;33m)\u001b[0m\u001b[1;33m:\u001b[0m\u001b[1;33m\u001b[0m\u001b[1;33m\u001b[0m\u001b[0m\n\u001b[0;32m     36\u001b[0m         \u001b[1;32mfor\u001b[0m \u001b[0mi\u001b[0m \u001b[1;32min\u001b[0m \u001b[0mrange\u001b[0m\u001b[1;33m(\u001b[0m\u001b[0mlen\u001b[0m\u001b[1;33m(\u001b[0m\u001b[0mDelta_P_Q\u001b[0m\u001b[1;33m)\u001b[0m\u001b[1;33m)\u001b[0m\u001b[1;33m:\u001b[0m\u001b[1;33m\u001b[0m\u001b[1;33m\u001b[0m\u001b[0m\n\u001b[1;32m---> 37\u001b[1;33m             \u001b[0mprint\u001b[0m\u001b[1;33m(\u001b[0m\u001b[1;34m'\\nDelta_P_Q['\u001b[0m\u001b[1;33m,\u001b[0m\u001b[0mi\u001b[0m\u001b[1;33m+\u001b[0m\u001b[1;36m1\u001b[0m\u001b[1;33m,\u001b[0m\u001b[1;34m'] = \\n%s'\u001b[0m \u001b[1;33m%\u001b[0m \u001b[0mself\u001b[0m\u001b[1;33m.\u001b[0m\u001b[0mformata_matriz\u001b[0m\u001b[1;33m(\u001b[0m\u001b[0mDelta_P_Q\u001b[0m\u001b[1;33m[\u001b[0m\u001b[0mi\u001b[0m\u001b[1;33m]\u001b[0m\u001b[1;33m)\u001b[0m\u001b[1;33m)\u001b[0m\u001b[1;33m\u001b[0m\u001b[1;33m\u001b[0m\u001b[0m\n\u001b[0m\u001b[0;32m     38\u001b[0m         \u001b[1;32mreturn\u001b[0m \u001b[0mDelta_P_Q\u001b[0m\u001b[1;33m\u001b[0m\u001b[1;33m\u001b[0m\u001b[0m\n",
      "\u001b[1;32mc:\\Users\\55329\\Documents\\GitHub\\SEP\\Materia_da_P4.py\u001b[0m in \u001b[0;36mformata_matriz\u001b[1;34m(self, M)\u001b[0m\n\u001b[0;32m     15\u001b[0m     \u001b[1;32mdef\u001b[0m \u001b[0mformata_matriz\u001b[0m\u001b[1;33m(\u001b[0m\u001b[0mself\u001b[0m\u001b[1;33m,\u001b[0m \u001b[0mM\u001b[0m\u001b[1;33m)\u001b[0m\u001b[1;33m:\u001b[0m\u001b[1;33m\u001b[0m\u001b[1;33m\u001b[0m\u001b[0m\n\u001b[0;32m     16\u001b[0m         \u001b[0mm\u001b[0m \u001b[1;33m=\u001b[0m \u001b[0mlen\u001b[0m\u001b[1;33m(\u001b[0m\u001b[0mM\u001b[0m\u001b[1;33m)\u001b[0m \u001b[1;31m# número de linhas\u001b[0m\u001b[1;33m\u001b[0m\u001b[1;33m\u001b[0m\u001b[0m\n\u001b[1;32m---> 17\u001b[1;33m         \u001b[0mn\u001b[0m \u001b[1;33m=\u001b[0m \u001b[0mlen\u001b[0m\u001b[1;33m(\u001b[0m\u001b[0mM\u001b[0m\u001b[1;33m[\u001b[0m\u001b[1;36m0\u001b[0m\u001b[1;33m]\u001b[0m\u001b[1;33m)\u001b[0m \u001b[1;31m# número de colunas\u001b[0m\u001b[1;33m\u001b[0m\u001b[1;33m\u001b[0m\u001b[0m\n\u001b[0m\u001b[0;32m     18\u001b[0m         \u001b[0ms\u001b[0m \u001b[1;33m=\u001b[0m \u001b[1;34m\"\"\u001b[0m\u001b[1;33m\u001b[0m\u001b[1;33m\u001b[0m\u001b[0m\n\u001b[0;32m     19\u001b[0m         \u001b[1;32mfor\u001b[0m \u001b[0mi\u001b[0m \u001b[1;32min\u001b[0m \u001b[0mrange\u001b[0m\u001b[1;33m(\u001b[0m\u001b[0mm\u001b[0m\u001b[1;33m)\u001b[0m\u001b[1;33m:\u001b[0m\u001b[1;33m\u001b[0m\u001b[1;33m\u001b[0m\u001b[0m\n",
      "\u001b[1;31mTypeError\u001b[0m: object of type 'Add' has no len()"
     ]
    }
   ],
   "source": [
    "#Variáveis de entrada\n",
    "teta2,teta3,V3 = var('teta2 teta3 V3')\n",
    "teta1, V1, V2 = 0, 1, 1\n",
    "\n",
    "# Potências esperadas nas barras \n",
    "P_esp_2 = Matriz_Barras[1][4]\n",
    "P_esp_3 = Matriz_Barras[2][4]\n",
    "Q_esp_3 = Matriz_Barras[2][5]\n",
    "\n",
    "# Vetor de potencias\n",
    "P2 = Lambda((teta2,teta3,V3), V2*( V1*(G[1,0]*cos(teta2-teta1) + B[1,0]*sin(teta2-teta1)) +\n",
    "                                   V3*(G[1,2]*cos(teta2-teta3) + B[1,2]*sin(teta2-teta3)) + \n",
    "                                   V2*(G[1,1]*cos(teta2-teta2) + B[1,1]*sin(teta2-teta2)) ))\n",
    "\n",
    "P3 = Lambda((teta2,teta3,V3), V3*( V3*(G[2,2]*cos(teta3-teta3) + B[2,2]*sin(teta3-teta3)) + \n",
    "                                   V2*(G[2,1]*cos(teta3-teta2) + B[2,1]*sin(teta3-teta2)) ))\n",
    "\n",
    "Q3 = Lambda((teta2,teta3,V3), V3*( V3*(G[2,2]*sin(teta3-teta3) - B[2,2]*cos(teta3-teta3)) + \n",
    "                                   V2*(G[2,1]*sin(teta3-teta2) - B[2,1]*cos(teta3-teta2)) ))\n",
    "\n",
    "Delta_P_Q = np.array([[P_esp_2 - P2(teta2,teta3,V3)], \n",
    "                      [P_esp_3 - P3(teta2,teta3,V3)], \n",
    "                      [Q_esp_3 - Q3(teta2,teta3,V3)]])\n",
    "                      \n",
    "Delta_P_Q = Q1.Delta_P_Q(Delta_P_Q)"
   ]
  },
  {
   "cell_type": "code",
   "execution_count": 5,
   "metadata": {},
   "outputs": [],
   "source": [
    "Ep = 0.001\n",
    "Eq = 0.001\n",
    "Q1 = Fluxo_de_carga(Ep, Eq)"
   ]
  },
  {
   "cell_type": "code",
   "execution_count": null,
   "metadata": {},
   "outputs": [],
   "source": []
  }
 ],
 "metadata": {
  "interpreter": {
   "hash": "d012ca61647e472ccba26ea4e2ce3b3982dfcdcbbcaba85753d62c8f1b239abb"
  },
  "kernelspec": {
   "display_name": "Python 3.8.8 ('base')",
   "language": "python",
   "name": "python3"
  },
  "language_info": {
   "codemirror_mode": {
    "name": "ipython",
    "version": 3
   },
   "file_extension": ".py",
   "mimetype": "text/x-python",
   "name": "python",
   "nbconvert_exporter": "python",
   "pygments_lexer": "ipython3",
   "version": "3.8.8"
  },
  "orig_nbformat": 4
 },
 "nbformat": 4,
 "nbformat_minor": 2
}
