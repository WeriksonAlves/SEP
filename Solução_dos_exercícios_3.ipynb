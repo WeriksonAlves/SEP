{
  "cells": [
    {
      "cell_type": "markdown",
      "metadata": {
        "id": "view-in-github",
        "colab_type": "text"
      },
      "source": [
        "<a href=\"https://colab.research.google.com/github/WeriksonAlves/SEP/blob/main/Solu%C3%A7%C3%A3o_dos_exerc%C3%ADcios_das_v%C3%ADdeo_aulas.ipynb\" target=\"_parent\"><img src=\"https://colab.research.google.com/assets/colab-badge.svg\" alt=\"Open In Colab\"/></a>"
      ]
    },
    {
      "cell_type": "code",
      "execution_count": null,
      "id": "f174f97b",
      "metadata": {
        "ExecuteTime": {
          "end_time": "2022-03-03T17:02:45.431734Z",
          "start_time": "2022-03-03T17:02:43.602008Z"
        },
        "id": "f174f97b"
      },
      "outputs": [],
      "source": [
        "from sympy import * #var, Lambda, exp, log, sin, cos, tan, sqrt, ln\n",
        "from Materia_da_P3 import *"
      ]
    },
    {
      "cell_type": "markdown",
      "source": [
        "# Resolvendo exercicios da aula"
      ],
      "metadata": {
        "id": "UlvIBwiiSGqy"
      },
      "id": "UlvIBwiiSGqy"
    },
    {
      "cell_type": "markdown",
      "source": [
        "# Circuitos em Aneis"
      ],
      "metadata": {
        "id": "eI4qe8NMRT6A"
      },
      "id": "eI4qe8NMRT6A"
    },
    {
      "cell_type": "code",
      "execution_count": null,
      "id": "faa80134",
      "metadata": {
        "ExecuteTime": {
          "end_time": "2022-03-03T17:02:45.726241Z",
          "start_time": "2022-03-03T17:02:45.438443Z"
        },
        "id": "faa80134",
        "outputId": "c51dea78-0ff5-45b9-d2d0-1b732b391166"
      },
      "outputs": [
        {
          "name": "stdout",
          "output_type": "stream",
          "text": [
            "\n",
            "..........3F - Corrente de CC na barra K..........\n",
            "\n",
            "\n",
            " Portanto, para um curto trifásico equilibrado em anel, temos que:\n",
            "i_cc_ 7  =  -13.36268491617454j  pu.\n",
            "\n",
            "I_Base =  418.36976028233755  A.\n",
            "\n",
            "I_cc_ 7  =  5590.543285108351 < -90  A.\n",
            "\n",
            "..........3F - Tensão na barra vizinha i..........\n",
            "\n",
            "\n",
            " Portanto, para um curto trifásico equilibrado em anel, temos que:\n",
            "v_r_ 1  =  (0.9631597458203526+0j)  pu.\n",
            "\n",
            "V_Base =  79674.33714816836  V.\n",
            "\n",
            "V_r_ 1  =  76739.11431603492 < 0  V.\n",
            "\n",
            "..........3F - Tensão na barra vizinha i..........\n",
            "\n",
            "\n",
            " Portanto, para um curto trifásico equilibrado em anel, temos que:\n",
            "v_r_ 4  =  (0.4644451024824394+0j)  pu.\n",
            "\n",
            "V_Base =  79674.33714816836  V.\n",
            "\n",
            "V_r_ 4  =  37004.355682001486 < 0  V.\n",
            "\n",
            "..........3F - Tensão na barra vizinha i..........\n",
            "\n",
            "\n",
            " Portanto, para um curto trifásico equilibrado em anel, temos que:\n",
            "v_r_ 5  =  (0.8066816364371554+0j)  pu.\n",
            "\n",
            "V_Base =  79674.33714816836  V.\n",
            "\n",
            "V_r_ 5  =  64271.82467273009 < 0  V.\n",
            "\n",
            "..........3F - Fluxo de corrente na linha vizinha p-q..........\n",
            "\n",
            "\n",
            " Portanto, para um curto trifásico equilibrado em anel, temos que:\n",
            "i_ 1 - 6  =  -3.2760531026989916j  pu.\n",
            "\n",
            "I_Base =  418.36976028233755  A.\n",
            "\n",
            "I_ 1 - 6  =  1370.6015512483852 < -90  A.\n",
            "\n",
            "..........3F - Fluxo de corrente na linha vizinha p-q..........\n",
            "\n",
            "\n",
            " Portanto, para um curto trifásico equilibrado em anel, temos que:\n",
            "i_ 8 - 7  =  -4.557523132430201j  pu.\n",
            "\n",
            "I_Base =  418.36976028233755  A.\n",
            "\n",
            "I_ 8 - 7  =  1906.7298603960312 < -90  A.\n"
          ]
        }
      ],
      "source": [
        "A7P2 = Anel(138e3,100e6)#(V_Base, S_Base)\n",
        "A7P2.Corrente_3F(7,0.07483526j)#(k,z_k_k)\n",
        "A7P2.Tensão_3F(1,0.00275695j)#(i, z_i_k)\n",
        "A7P2.Tensão_3F(4,0.04007839j)#(i, z_i_k)\n",
        "A7P2.Tensão_3F(5,0.01446703j)#(i, z_i_k)\n",
        "A7P2.Fluxo_3F(1,6,0.00275695j,0.03364765j,0.126j)#(p, q, z_p_k, z_q_k, z_p_q)\n",
        "A7P2.Fluxo_3F(8,7,0.02708638j,0.07483526j,0.14j)#(p, q, z_p_k, z_q_k, z_p_q)"
      ]
    },
    {
      "cell_type": "code",
      "execution_count": null,
      "id": "3da994cd",
      "metadata": {
        "ExecuteTime": {
          "end_time": "2022-03-03T17:02:45.850915Z",
          "start_time": "2022-03-03T17:02:45.743119Z"
        },
        "id": "3da994cd",
        "outputId": "d4abf1fe-bc18-4117-f2be-6bc0376b1957"
      },
      "outputs": [
        {
          "name": "stdout",
          "output_type": "stream",
          "text": [
            "\n",
            "..........2F - Corrente de CC na barra K..........\n",
            "\n",
            "\n",
            " Portanto, para um curto bifásico em anel, temos que:\n",
            "i_A_pos =  -14.634431891353978j  pu.\n",
            "i_A_neg =  14.634431891353978j  pu.\n",
            "i_A_zero = 0 pu.\n",
            "\n",
            "i_cc_A 5  =  0j  pu.\n",
            "i_cc_B 5  =  (-25.34757957573139+0j)  pu.\n",
            "i_cc_C 5  =  (25.34757957573139+0j)  pu.\n",
            "\n",
            "I_Base =  115.47005383792515  A.\n",
            "\n",
            "I_cc_A 5  =  0.0 < nan  A.\n",
            "I_cc_B 5  =  2926.886378270796 < 180  A.\n",
            "I_cc_C 5  =  2926.886378270796 < 0  A.\n",
            "\n",
            "..........2F - Tensão na barra vizinha i..........\n",
            "\n",
            "\n",
            " Portanto, para um curto bifásico em anel, temos que:\n",
            "v_i_pos =  (70.41649593162794+0j)  pu.\n",
            "v_i_neg =  (29.58350406837207+0j)  pu.\n",
            "v_i_zero = 0 pu.\n",
            "\n",
            "v_A_ 4  =  (1+0j)  pu.\n",
            "v_B_ 4  =  (-0.5-0.3536240826610286j)  pu.\n",
            "v_C_ 4  =  (-0.5+0.3536240826610286j)  pu.\n",
            "\n",
            "V_Base =  288675.1345948129  V.\n",
            "\n",
            "V_A_ 4  =  288675.1345948129 < 0  V.\n",
            "V_B_ 4  =  176788.4780931377 < 180*(0.615573958478781 - pi)/pi  V.\n",
            "V_C_ 4  =  176788.4780931377 < 180*(-0.615573958478781 + pi)/pi  V.\n",
            "\n",
            "..........2F - Fluxo de corrente na linha vizinha p-q..........\n",
            "\n",
            "\n",
            " Portanto, para um curto bifásico em anel, temos que:\n",
            "i_p_q_pos =  -1.801753335287751j  pu.\n",
            "i_p_q_neg =  (-0+1.801753335287751j)  pu.\n",
            "i_p_q_zero = 0 pu.\n",
            "\n",
            "i_A_ 2 - 4  =  0j  pu.\n",
            "i_B_ 2 - 4  =  (-3.120728319425067+0j)  pu.\n",
            "i_C_ 2 - 4  =  (3.120728319425067+0j)  pu.\n",
            "\n",
            "I_Base =  115.47005383792515  A.\n",
            "\n",
            "I_A_ 2 - 4  =  0.0 < nan  A.\n",
            "I_B_ 2 - 4  =  360.35066705755014 < 180  A.\n",
            "I_C_ 2 - 4  =  360.35066705755014 < 0  A.\n"
          ]
        }
      ],
      "source": [
        "A7P3 = Anel(500e3,100e6)#(V_Base, S_Base)\n",
        "A7P3.Corrente_2F(5,3.4166j)#(k,z_k_k)\n",
        "A7P3.Tensão_2F(4,2.0215j)#(i,z_i_k)\n",
        "A7P3.Fluxo_2F(2,4,1.7174j,2.0215j,2.47j)#(p, q, z_p_k, z_q_k, z_p_q)"
      ]
    },
    {
      "cell_type": "code",
      "execution_count": null,
      "id": "9cb98db8",
      "metadata": {
        "ExecuteTime": {
          "end_time": "2022-03-03T17:02:45.928069Z",
          "start_time": "2022-03-03T17:02:45.856903Z"
        },
        "id": "9cb98db8",
        "outputId": "d6e26d30-f698-461b-b930-fb38b140ba78"
      },
      "outputs": [
        {
          "name": "stdout",
          "output_type": "stream",
          "text": [
            "\n",
            "..........1F - Corrente de CC na barra K..........\n",
            "\n",
            "\n",
            " Portanto, para um curto monofásico em anel, temos que:\n",
            "i_A_pos =  -6.807908066009476j  pu.\n",
            "i_A_neg =  -6.807908066009476j  pu.\n",
            "i_A_zero =  -6.807908066009476j  pu.\n",
            "\n",
            "i_cc_A 5  =  -20.42372419802843j  pu.\n",
            "i_cc_B 5  =  0j  pu.\n",
            "i_cc_C 5  =  0j  pu.\n",
            "\n",
            "I_Base =  115.47005383792515  A.\n",
            "\n",
            "I_cc_A 5  =  2358.3285327172775 < -90  A.\n",
            "I_cc_B 5  =  0.0 < nan  A.\n",
            "I_cc_C 5  =  0.0 < nan  A.\n",
            "\n",
            "..........1F - Tensão na barra vizinha i..........\n",
            "\n",
            "\n",
            " Portanto, para um curto monofásico em anel, temos que:\n",
            "v_i_pos =  (86.23781384456184+0j)  pu.\n",
            "v_i_neg =  (13.762186155438156+0j)  pu.\n",
            "v_i_zero =  (19.038995697402104+0j)  pu.\n",
            "\n",
            "v_A_ 4  =  (0.5343663199172157+0j)  pu.\n",
            "v_B_ 4  =  (-0.5527680954196394-0.8660254037844386j)  pu.\n",
            "v_C_ 4  =  (-0.5527680954196394+0.8660254037844386j)  pu.\n",
            "\n",
            "V_Base =  288675.1345948129  V.\n",
            "\n",
            "V_A_ 4  =  154258.2693250371 < 0  V.\n",
            "V_B_ 4  =  296585.08718885604 < 180*(1.00270314384522 - pi)/pi  V.\n",
            "V_C_ 4  =  296585.08718885604 < 180*(-1.00270314384522 + pi)/pi  V.\n",
            "\n",
            "..........1F - Fluxo de corrente na linha vizinha p-q..........\n",
            "\n",
            "\n",
            " Portanto, para um curto monofásico em anel, temos que:\n",
            "i_p_q_pos =  -0.008381720011633531j  pu.\n",
            "i_p_q_neg =  -0.008381720011633531j  pu.\n",
            "i_p_q_zero = 0 pu.\n",
            "\n",
            "i_A_ 2 - 4  =  -2.657438486458401j  pu.\n",
            "i_B_ 2 - 4  =  -0.14292248296834206j  pu.\n",
            "i_C_ 2 - 4  =  -0.14292248296834206j  pu.\n",
            "\n",
            "I_Base =  115.47005383792515  A.\n",
            "\n",
            "I_A_ 2 - 4  =  306.8545651023259 < -90  A.\n",
            "I_B_ 2 - 4  =  16.503266803004397 < -90  A.\n",
            "I_C_ 2 - 4  =  16.503266803004397 < -90  A.\n"
          ]
        }
      ],
      "source": [
        "A7P4 = Anel(500e3,100e6)#(V_Base,S_Base)\n",
        "A7P4.Corrente_1F(5,3.4166j,7.8556j)#(k,z_k_k_pos,z_k_k_zero)\n",
        "A7P4.Tensão_1F(4,2.0215j,2.7966j)#(i,z_i_k_pos,z_i_k_zero)\n",
        "A7P4.Fluxo_1F(2,4,1.7174j,2.0215j,2.47j,1.2647j,2.7966j,10.63j)#(p,q,z_p_k_pos,z_q_k_pos,z_p_q_pos,z_p_k_zero,z_q_k_zero,z_p_q_zero)"
      ]
    },
    {
      "cell_type": "markdown",
      "source": [
        "# Circuito de autotransformadores"
      ],
      "metadata": {
        "id": "CRrjnRq6RfZk"
      },
      "id": "CRrjnRq6RfZk"
    },
    {
      "cell_type": "code",
      "execution_count": null,
      "id": "1504dc36",
      "metadata": {
        "ExecuteTime": {
          "end_time": "2022-03-03T17:02:49.202513Z",
          "start_time": "2022-03-03T17:02:49.176919Z"
        },
        "id": "1504dc36",
        "outputId": "2014fbd8-906b-4c03-aa65-a7d70901dcd4"
      },
      "outputs": [
        {
          "name": "stdout",
          "output_type": "stream",
          "text": [
            "\n",
            "..........Conversão das impedâncias..........\n",
            "\n",
            "\n",
            " Após a mudança de base, temos que:\n",
            "z_HL =  24.28j % pu.\n",
            "z_HT =  68.45714285714286j % pu.\n",
            "z_LT =  42.285714285714285j % pu.\n",
            "\n",
            "z_H =  25.225714285714286j % pu.\n",
            "z_L =  -0.9457142857142848j % pu.\n",
            "z_T =  43.231428571428566j % pu.\n",
            "\n",
            "\n",
            "..........3F - Cálculo do curto circuito na barra..........\n",
            "\n",
            "\n",
            " Após definido o curto (em  H ), temos que:\n",
            "z1 =  8j % pu.\n",
            "z2 =  64.28j % pu.\n",
            "z3 =  43.231428571428566j % pu.\n",
            "\n",
            "z_eq_pos =  7.114554510237964j % pu.\n",
            "\n",
            "\n",
            " Portanto, para um curto trifásico em um autotransformador, temos que:\n",
            "i_cc H  =  -14.055693839452395j  pu.\n",
            "I_Base =  418.36976028233755  A.\n",
            "I_cc_ H  =  -5880.477262213627j  A.\n",
            "\n",
            "..........3F - Cálculo do curto circuito na barra..........\n",
            "\n",
            "\n",
            " Após definido o curto (em  L ), temos que:\n",
            "z1 =  32.28j % pu.\n",
            "z2 =  40j % pu.\n",
            "z3 =  43.231428571428566j % pu.\n",
            "\n",
            "z_eq_pos =  17.863862755949086j % pu.\n",
            "\n",
            "\n",
            " Portanto, para um curto trifásico em um autotransformador, temos que:\n",
            "i_cc L  =  -5.5978934324659235j  pu.\n",
            "I_Base =  836.7395205646751  A.\n",
            "I_cc_ L  =  -4683.97866685368j  A.\n",
            "\n",
            "..........3F - Cálculo do curto circuito na barra..........\n",
            "\n",
            "\n",
            " Após definido o curto (em  T ), temos que:\n",
            "z1 =  33.22571428571429j % pu.\n",
            "z2 =  39.05428571428571j % pu.\n",
            "z3 =  43.231428571428566j % pu.\n",
            "\n",
            "z_eq_pos =  61.183926340873924j % pu.\n",
            "\n",
            "\n",
            " Portanto, para um curto trifásico em um autotransformador, temos que:\n",
            "i_cc T  =  -1.6344161936072905j  pu.\n",
            "I_Base =  4183.697602823375  A.\n",
            "I_cc_ T  =  -6837.903111210526j  A.\n"
          ]
        }
      ],
      "source": [
        "A8P1 = Autotransformador(138e3,69e3,13.8e3,100e6)#(V_Base_1,V_Base_2,V_Base_3,S_Base)\n",
        "A8P1.Impedancias(6.07j,5.99j,3.7j,25e6,8.75e6,8.75e6)#Colocar em % - (z_hl_pos,z_ht_pos,z_lt_pos,S_hl,S_ht,S_lt)\n",
        "A8P1.Curto_3F('H',8j,16j,40j,80j)#colocar em % - ('H',z_G1_pos,z_G1_zero,z_G2_pos,z_G2_zero)\n",
        "A8P1.Curto_3F('L',8j,16j,40j,80j)#colocar em % - ('H',z_G1_pos,z_G1_zero,z_G2_pos,z_G2_zero)\n",
        "A8P1.Curto_3F('T',8j,16j,40j,80j)#colocar em % - ('H',z_G1_pos,z_G1_zero,z_G2_pos,z_G2_zero)"
      ]
    },
    {
      "cell_type": "code",
      "execution_count": null,
      "id": "fea0fc40",
      "metadata": {
        "ExecuteTime": {
          "end_time": "2022-03-03T17:07:37.582377Z",
          "start_time": "2022-03-03T17:07:37.521035Z"
        },
        "id": "fea0fc40",
        "outputId": "70c7fcc4-2dfe-469e-d685-c85c59f6da8d"
      },
      "outputs": [
        {
          "name": "stdout",
          "output_type": "stream",
          "text": [
            "\n",
            "..........Conversão das impedâncias..........\n",
            "\n",
            "\n",
            " Após a mudança de base, temos que:\n",
            "z_HL =  24.28j % pu.\n",
            "z_HT =  68.45714285714286j % pu.\n",
            "z_LT =  42.285714285714285j % pu.\n",
            "\n",
            "z_H =  25.225714285714286j % pu.\n",
            "z_L =  -0.9457142857142848j % pu.\n",
            "z_T =  43.231428571428566j % pu.\n",
            "\n",
            "\n",
            "..........1F - Cálculo do curto circuito na barra..........\n",
            "\n",
            "\n",
            " Após definido o curto (em  H ), temos que:\n",
            "z1_pos =  8j % pu.\n",
            "z2_pos =  64.28j % pu.\n",
            "z3_pos =  43.231428571428566j % pu.\n",
            "\n",
            "z_eq_pos =  7.114554510237964j % pu.\n",
            "\n",
            "z1_zero =  16j % pu.\n",
            "z2_zero =  53.17362076101469j % pu.\n",
            "z_eq_zero =  12.299167266602327j % pu.\n",
            "\n",
            "\n",
            " Portanto, para um curto monofásico na barra  H  de um autotransformador, temos que:\n",
            "i_A_pos =  -3.7695626703311036j  pu.\n",
            "i_A_neg =  -3.7695626703311036j  pu.\n",
            "i_A_zero =  -3.7695626703311036j  pu.\n",
            "\n",
            "i_cc_A H  =  -11.308688010993311j  pu.\n",
            "i_cc_B H  =  0j  pu.\n",
            "i_cc_C H  =  0j  pu.\n",
            "\n",
            "I_Base =  418.36976028233755  A.\n",
            "\n",
            "I_cc_A H  =  4731.213092267017 < -90  A.\n",
            "I_cc_B H  =  0.0 < nan  A.\n",
            "I_cc_C H  =  0.0 < nan  A.\n",
            "\n",
            "..........Correntes..........\n",
            "\n",
            "\n",
            "I_Base =  418.36976028233755  A.\n",
            "\n",
            "\n",
            " Para a sequência positiva, na barra  H , temos que:\n",
            "i_A_G1 =  -3.352344887228602j  pu ==> I_A_G1 =  -1402.51972685355j  A.\n",
            "i_A_zh =  -0.41721778310250146j  pu ==> I_A_zh =  -174.55130390212184j  A.\n",
            "i_A_zl =  -0.41721778310250146j  pu ==> I_A_zl =  -174.55130390212184j  A.\n",
            "i_A_zt = 0 pu ==> I_A_zt = 0 A.\n",
            "i_A_G2 =  -0.41721778310250146j  pu ==> I_A_G2 =  -174.55130390212184j  A.\n",
            "\n",
            "\n",
            " Para a sequência negativa, o resultado é o mesmo da sequência positiva.\n",
            "\n",
            "\n",
            " Para a sequência zero, na barra  H , temos que:\n",
            "i_A_G1 =  -2.897655112771398j  pu ==> I_A_G1 =  -1212.2912749110594j  A.\n",
            "i_A_zh =  -0.8719075575597057j  pu ==> I_A_zh =  -364.7797558446125j  A.\n",
            "i_A_zl =  -0.3082437676036427j  pu ==> I_A_zl =  -128.95987116086056j  A.\n",
            "i_A_zt =  -0.563663789956063j  pu ==> I_A_zt =  -235.81988468375195j  A.\n",
            "i_A_G2 =  -0.3082437676036427j  pu ==> I_A_G2 =  -128.95987116086056j  A.\n",
            "\n",
            "\n",
            "..........Contribuição do  138000.0 ..........\n",
            "\n",
            "i_cc_A =  -9.602344887228602j  pu.\n",
            "i_cc_B =  0.45468977445720427j  pu.\n",
            "i_cc_C =  0.45468977445720427j  pu.\n",
            "\n",
            "I_Base =  418.36976028233755  A.\n",
            "\n",
            "I_cc_A =  4017.33072861816 < -90  A.\n",
            "I_cc_B =  190.22845194249066 < 90  A.\n",
            "I_cc_C =  190.22845194249066 < 90  A.\n",
            "\n",
            "..........Contribuição do Autotransformador..........\n",
            "\n",
            "i_cc_A =  -1.7063431237647086j  pu.\n",
            "i_cc_B =  -0.45468977445720427j  pu.\n",
            "i_cc_C =  -0.45468977445720427j  pu.\n",
            "\n",
            "I_Base =  418.36976028233755  A.\n",
            "\n",
            "I_cc_A =  713.8823636488562 < -90  A.\n",
            "I_cc_B =  190.22845194249066 < -90  A.\n",
            "I_cc_C =  190.22845194249066 < -90  A.\n",
            "\n",
            "..........Contribuição do  69000.0 ..........\n",
            "\n",
            "i_cc_A =  -1.1426793338086456j  pu.\n",
            "i_cc_B =  0.10897401549885877j  pu.\n",
            "i_cc_C =  0.10897401549885877j  pu.\n",
            "\n",
            "I_Base =  836.7395205646751  A.\n",
            "\n",
            "I_cc_A =  956.1249579302084 < -90  A.\n",
            "I_cc_B =  91.18286548252256 < 90  A.\n",
            "I_cc_C =  91.18286548252256 < 90  A.\n",
            "\n",
            "..........Contribuição da Corrente no Neutro do Autotransformador..........\n",
            "\n",
            "I_NH = (I_Atf - I_A_G2)-(I_B_G2 - I_B_G2)-(I_Ctf - I_C_G2) =  320.58004056867424j  A.\n",
            "\n",
            "..........Contribuição da Corrente no Delta do Autotransformador..........\n",
            "\n",
            "\n",
            "I_Base =  2415.458937198068  A.\n",
            "\n",
            "I_Delta = i_A_z_zt*I_Base =  -1361.5067390243069j  A.\n"
          ]
        }
      ],
      "source": [
        "A8P2 = Autotransformador(138e3,69e3,13.8e3,100e6)#(V_Base_1,V_Base_2,V_Base_3,S_Base)\n",
        "A8P2.Impedancias(6.07j,5.99j,3.7j,25e6,8.75e6,8.75e6)#(z_hl_pos,z_ht_pos,z_lt_pos,S_hl,S_ht,S_lt)\n",
        "A8P2.Curto_1F('H',8j,16j,40j,80j)#colocar em % - ('H',z_G1_pos,z_G1_zero,z_G2_pos,z_G2_zero)"
      ]
    },
    {
      "cell_type": "markdown",
      "source": [
        "# Resolvendo a Prova 3"
      ],
      "metadata": {
        "id": "fB20ys_oR6OO"
      },
      "id": "fB20ys_oR6OO"
    },
    {
      "cell_type": "code",
      "execution_count": null,
      "id": "939ed94a",
      "metadata": {
        "ExecuteTime": {
          "end_time": "2022-03-03T18:07:50.920221Z",
          "start_time": "2022-03-03T18:07:50.906258Z"
        },
        "id": "939ed94a",
        "outputId": "db70daf5-98ed-461a-9181-b4e17d6f25cc"
      },
      "outputs": [
        {
          "name": "stdout",
          "output_type": "stream",
          "text": [
            "\n",
            "..........1F - Corrente de CC na barra K..........\n",
            "\n",
            "\n",
            " Portanto, para um curto monofásico em anel, temos que:\n",
            "i_A_pos =  -9.281776160686109j  pu.\n",
            "i_A_neg =  -9.281776160686109j  pu.\n",
            "i_A_zero =  -9.281776160686109j  pu.\n",
            "\n",
            "i_cc_A 4  =  -27.845328482058328j  pu.\n",
            "i_cc_B 4  =  0j  pu.\n",
            "i_cc_C 4  =  0j  pu.\n",
            "\n",
            "I_Base =  115470.05383792517  A.\n",
            "\n",
            "I_cc_A 4  =  3215301.578957986 < -90  A.\n",
            "I_cc_B 4  =  0.0 < nan  A.\n",
            "I_cc_C 4  =  0.0 < nan  A.\n"
          ]
        }
      ],
      "source": [
        "P3Q1 = Anel(500,100e6)\n",
        "P3Q1.Corrente_1F(4,2.6420j,5.4898j)"
      ]
    },
    {
      "cell_type": "code",
      "execution_count": null,
      "id": "b2136fc7",
      "metadata": {
        "ExecuteTime": {
          "end_time": "2022-03-03T18:08:58.228770Z",
          "start_time": "2022-03-03T18:08:58.200842Z"
        },
        "id": "b2136fc7",
        "outputId": "dad8dc39-bd4f-49fe-b4e7-fd4d6df11d3d"
      },
      "outputs": [
        {
          "name": "stdout",
          "output_type": "stream",
          "text": [
            "\n",
            "..........1F - Tensão na barra vizinha i..........\n",
            "\n",
            "\n",
            " Portanto, para um curto monofásico em anel, temos que:\n",
            "v_i_pos =  (86.37528077372886+0j)  pu.\n",
            "v_i_neg =  (13.62471922627114+0j)  pu.\n",
            "v_i_zero =  (3.5280031186767897+0j)  pu.\n",
            "\n",
            "v_A_ 3  =  (0.6922255842878093+0j)  pu.\n",
            "v_B_ 3  =  (-0.3990328389240565-0.8660254037844386j)  pu.\n",
            "v_C_ 3  =  (-0.3990328389240565+0.8660254037844386j)  pu.\n",
            "\n",
            "V_Base =  288.6751345948129  V.\n",
            "\n",
            "V_A_ 3  =  199.82831371425635 < 0  V.\n",
            "V_B_ 3  =  275.2615735592529 < 180*(1.13902766479836 - pi)/pi  V.\n",
            "V_C_ 3  =  275.2615735592529 < 180*(-1.13902766479836 + pi)/pi  V.\n"
          ]
        }
      ],
      "source": [
        "P3Q1.Tensão_1F(3,1.4679j,0.3801j)"
      ]
    },
    {
      "cell_type": "code",
      "execution_count": null,
      "id": "c5db0524",
      "metadata": {
        "ExecuteTime": {
          "end_time": "2022-03-03T18:16:00.287488Z",
          "start_time": "2022-03-03T18:16:00.256537Z"
        },
        "id": "c5db0524",
        "outputId": "22811222-30eb-4b9c-87b1-ae4677b57209"
      },
      "outputs": [
        {
          "name": "stdout",
          "output_type": "stream",
          "text": [
            "\n",
            "..........1F - Fluxo de corrente na linha vizinha p-q..........\n",
            "\n",
            "\n",
            " Portanto, para um curto monofásico em anel, temos que:\n",
            "i_p_q_pos =  (-0+0.013933054288970233j)  pu.\n",
            "i_p_q_neg =  (-0+0.013933054288970233j)  pu.\n",
            "i_p_q_zero = 0 pu.\n",
            "\n",
            "i_A_ 2 - 3  =  (-0+4.229247896427515j)  pu.\n",
            "i_B_ 2 - 3  =  0.049331609736445695j  pu.\n",
            "i_C_ 2 - 3  =  0.049331609736445695j  pu.\n",
            "\n",
            "I_Base =  115470.05383792517  A.\n",
            "\n",
            "I_A_ 2 - 3  =  488351.4822944169 < 90  A.\n",
            "I_B_ 2 - 3  =  5696.323632178897 < 90  A.\n",
            "I_C_ 2 - 3  =  5696.323632178897 < 90  A.\n"
          ]
        }
      ],
      "source": [
        "P3Q1.Fluxo_1F(2,3,1.8702j,1.4679j,2.68j,2.1644j,0.3801j,11.48j)"
      ]
    },
    {
      "cell_type": "code",
      "execution_count": null,
      "id": "19cbfb42",
      "metadata": {
        "ExecuteTime": {
          "end_time": "2022-03-03T18:25:32.414659Z",
          "start_time": "2022-03-03T18:25:32.409672Z"
        },
        "id": "19cbfb42"
      },
      "outputs": [],
      "source": [
        "P3Q2 = Autotransformador(138e3,69e3,13.8e3,100e6)"
      ]
    },
    {
      "cell_type": "code",
      "execution_count": null,
      "id": "f6e3928b",
      "metadata": {
        "ExecuteTime": {
          "end_time": "2022-03-03T18:27:26.190736Z",
          "start_time": "2022-03-03T18:27:26.183756Z"
        },
        "id": "f6e3928b",
        "outputId": "5a455e3d-9092-478c-b327-38f738395d02"
      },
      "outputs": [
        {
          "name": "stdout",
          "output_type": "stream",
          "text": [
            "\n",
            "..........Conversão das impedâncias..........\n",
            "\n",
            "\n",
            " Após a mudança de base, temos que:\n",
            "z_HL =  92j % pu.\n",
            "z_HT =  68.45714285714286j % pu.\n",
            "z_LT =  42.285714285714285j % pu.\n",
            "\n",
            "z_H =  59.08571428571429j % pu.\n",
            "z_L =  32.91428571428571j % pu.\n",
            "z_T =  9.37142857142857j % pu.\n",
            "\n"
          ]
        }
      ],
      "source": [
        "P3Q2.Impedancias(23j,5.99j,3.7j,25e6,8.75e6,8.75e6)"
      ]
    },
    {
      "cell_type": "code",
      "execution_count": null,
      "id": "35e08066",
      "metadata": {
        "ExecuteTime": {
          "end_time": "2022-03-03T18:41:08.585227Z",
          "start_time": "2022-03-03T18:41:08.552309Z"
        },
        "id": "35e08066",
        "outputId": "104c42e2-2a3a-4e76-dd4f-a2da3c93f207"
      },
      "outputs": [
        {
          "name": "stdout",
          "output_type": "stream",
          "text": [
            "\n",
            "..........1F - Cálculo do curto circuito na barra..........\n",
            "\n",
            "\n",
            " Após definido o curto (em  l ), temos que:\n",
            "z1_pos =  100j % pu.\n",
            "z2_pos =  40j % pu.\n",
            "z3_pos =  9.37142857142857j % pu.\n",
            "\n",
            "z_eq_pos =  28.571428571428573j % pu.\n",
            "\n",
            "z1_zero =  41.24585346994007j % pu.\n",
            "z2_zero =  80j % pu.\n",
            "z_eq_zero =  27.21468968349732j % pu.\n",
            "\n",
            "\n",
            " Portanto, para um curto monofásico na barra  l  de um autotransformador, temos que:\n",
            "i_A_pos =  -1.1854303943409437j  pu.\n",
            "i_A_neg =  -1.1854303943409437j  pu.\n",
            "i_A_zero =  -1.1854303943409437j  pu.\n",
            "\n",
            "i_cc_A l  =  -3.556291183022831j  pu.\n",
            "i_cc_B l  =  0j  pu.\n",
            "i_cc_C l  =  0j  pu.\n",
            "\n",
            "I_Base =  836.7395205646751  A.\n",
            "\n",
            "I_cc_A l  =  2975.689379470905 < -90  A.\n",
            "I_cc_B l  =  0.0 < nan  A.\n",
            "I_cc_C l  =  0.0 < nan  A.\n",
            "\n",
            "..........Correntes..........\n",
            "\n",
            "\n",
            "I_Base =  836.7395205646751  A.\n",
            "\n",
            "\n",
            " Para a sequência positiva, na barra  l , temos que:\n",
            "i_A_G1 =  -0.33869439838312676j  pu ==> I_A_G1 =  -283.3989885210386j  A.\n",
            "i_A_zh =  -0.33869439838312676j  pu ==> I_A_zh =  -283.3989885210386j  A.\n",
            "i_A_zl =  -0.33869439838312676j  pu ==> I_A_zl =  -283.3989885210386j  A.\n",
            "i_A_zt = 0 pu ==> I_A_zt = 0 A.\n",
            "i_A_G2 =  -0.8467359959578169j  pu ==> I_A_G2 =  -708.4974713025964j  A.\n",
            "\n",
            "\n",
            " Para a sequência negativa, o resultado é o mesmo da sequência positiva.\n",
            "\n",
            "\n",
            " Para a sequência zero, na barra  l , temos que:\n",
            "i_A_G1 =  -0.08678977537821153j  pu ==> I_A_G1 =  -72.62043503988056j  A.\n",
            "i_A_zh =  -0.08678977537821153j  pu ==> I_A_zh =  -72.62043503988056j  A.\n",
            "i_A_zl =  -0.7821663902987607j  pu ==> I_A_zl =  -654.4695304203875j  A.\n",
            "i_A_zt =  -0.6953766149205491j  pu ==> I_A_zt =  -581.849095380507j  A.\n",
            "i_A_G2 =  -0.403264004042183j  pu ==> I_A_G2 =  -337.4269294032474j  A.\n",
            "\n",
            "\n",
            "..........Contribuição do  138000.0 ..........\n",
            "\n",
            "i_cc_A =  -0.764178572144465j  pu.\n",
            "i_cc_B =  0.25190462300491523j  pu.\n",
            "i_cc_C =  0.25190462300491523j  pu.\n",
            "\n",
            "I_Base =  418.36976028233755  A.\n",
            "\n",
            "I_cc_A =  319.7092060409788 < -90  A.\n",
            "I_cc_B =  105.38927674057899 < 90  A.\n",
            "I_cc_C =  105.38927674057899 < 90  A.\n",
            "\n",
            "..........Contribuição do Autotransformador..........\n",
            "\n",
            "i_cc_A =  -2.4756383822143944j  pu.\n",
            "i_cc_B =  0.06456960565905623j  pu.\n",
            "i_cc_C =  0.06456960565905623j  pu.\n",
            "\n",
            "I_Base =  418.36976028233755  A.\n",
            "\n",
            "I_cc_A =  1035.7322365127902 < -90  A.\n",
            "I_cc_B =  27.01397044110442 < 90  A.\n",
            "I_cc_C =  27.01397044110442 < 90  A.\n",
            "\n",
            "..........Contribuição do  69000.0 ..........\n",
            "\n",
            "i_cc_A =  -2.096735995957817j  pu.\n",
            "i_cc_B =  0.4434719919156339j  pu.\n",
            "i_cc_C =  0.4434719919156339j  pu.\n",
            "\n",
            "I_Base =  836.7395205646751  A.\n",
            "\n",
            "I_cc_A =  1754.4218720084402 < -90  A.\n",
            "I_cc_B =  371.070541899349 < 90  A.\n",
            "I_cc_C =  371.070541899349 < 90  A.\n",
            "\n",
            "..........Contribuição da Corrente no Neutro do Autotransformador..........\n",
            "\n",
            "I_NH = (I_Atf - I_A_G2)-(I_B_G2 - I_B_G2)-(I_Ctf - I_C_G2) =  -30.576492579160913j  A.\n",
            "\n",
            "..........Contribuição da Corrente no Delta do Autotransformador..........\n",
            "\n",
            "\n",
            "I_Base =  2415.458937198068  A.\n",
            "\n",
            "I_Delta = i_A_z_zt*I_Base =  -1679.6536592283796j  A.\n"
          ]
        }
      ],
      "source": [
        "P3Q2.Curto_1F('l',8j,16j,40j,80j)"
      ]
    }
  ],
  "metadata": {
    "kernelspec": {
      "display_name": "Python 3",
      "language": "python",
      "name": "python3"
    },
    "language_info": {
      "codemirror_mode": {
        "name": "ipython",
        "version": 3
      },
      "file_extension": ".py",
      "mimetype": "text/x-python",
      "name": "python",
      "nbconvert_exporter": "python",
      "pygments_lexer": "ipython3",
      "version": "3.8.8"
    },
    "colab": {
      "name": "Solução_dos_exercícios_das_vídeo_aulas.ipynb",
      "provenance": [],
      "include_colab_link": true
    }
  },
  "nbformat": 4,
  "nbformat_minor": 5
}