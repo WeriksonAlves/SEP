{
 "cells": [
  {
   "cell_type": "markdown",
   "metadata": {},
   "source": [
    "Autor: Werikson Alves\n",
    "\n",
    "Codigo para calulo para fluxo de potencias pelo metodo de Newton-Raphson"
   ]
  },
  {
   "cell_type": "code",
   "execution_count": 1,
   "metadata": {},
   "outputs": [],
   "source": [
    "import numpy as np\n",
    "from sympy import * #var, Lambda, exp, log, sin, cos, tan, sqrt, ln"
   ]
  },
  {
   "cell_type": "markdown",
   "metadata": {},
   "source": [
    "Parametros relacionados com a impedancia"
   ]
  },
  {
   "cell_type": "code",
   "execution_count": 2,
   "metadata": {},
   "outputs": [
    {
     "name": "stdout",
     "output_type": "stream",
     "text": [
      "\n",
      "Y =  [[ 0.13312034-3.32800852j -0.13312034+3.32800852j  0.        +0.j        ]\n",
      " [-0.13312034+3.32800852j  0.15030459-4.57777224j -0.01718425+1.24976372j]\n",
      " [ 0.        +0.j         -0.01718425+1.24976372j  0.01718425-1.24976372j]]\n",
      "\n",
      "G =  [[ 0.13312034 -0.13312034  0.        ]\n",
      " [-0.13312034  0.15030459 -0.01718425]\n",
      " [ 0.         -0.01718425  0.01718425]]\n",
      "\n",
      "B =  [[-3.32800852  3.32800852  0.        ]\n",
      " [ 3.32800852 -4.57777224  1.24976372]\n",
      " [ 0.          1.24976372 -1.24976372]]\n"
     ]
    }
   ],
   "source": [
    "#Dados iniciais\n",
    "Barras = 3\n",
    "Impedancias = 2\n",
    "\n",
    "#                [      Tipo, V, teta,   P,   Q]\n",
    "Matriz_Barras = [[1, 'VTeta', 1,   0,  '?',   '?'],\n",
    "                 [2, 'PV',    1, '?',  0.2,   '?'],\n",
    "                 [3, 'PQ',  '?', '?', -0.15, 0.05]]\n",
    "\n",
    "#                [     k, m, Z_km]\n",
    "Matriz_Impedancias = [[1, 2, complex(0.012, 0.3)],\n",
    "                      [2, 3, complex(0.011, 0.8)]]\n",
    "\n",
    "y11 =  (Matriz_Impedancias[0][2])**(-1)\n",
    "y12 = -(Matriz_Impedancias[0][2])**(-1)\n",
    "y13 =  0\n",
    "y21 =  y12\n",
    "y22 =  (Matriz_Impedancias[0][2])**(-1) + (Matriz_Impedancias[1][2])**(-1)\n",
    "y23 = -(Matriz_Impedancias[1][2])**(-1)\n",
    "y31 =  y13\n",
    "y32 =  y23\n",
    "y33 =  (Matriz_Impedancias[1][2])**(-1)\n",
    "\n",
    "Y = np.array([[y11, y12,y13], [y21, y22, y23], [y31, y32, y33]])\n",
    "\n",
    "G = Y.real\n",
    "B = Y.imag\n",
    "\n",
    "print('\\nY = ', Y)\n",
    "print('\\nG = ', G)\n",
    "print('\\nB = ', B)"
   ]
  },
  {
   "cell_type": "markdown",
   "metadata": {},
   "source": [
    "Parametros relacionados com as potencias"
   ]
  },
  {
   "cell_type": "code",
   "execution_count": 40,
   "metadata": {},
   "outputs": [
    {
     "name": "stdout",
     "output_type": "stream",
     "text": [
      "\n",
      "Delta_P_Q[ 1 ] =  [-V3*(1.24976371654734*sin(teta2 - teta3) - 0.0171842511025259*cos(teta2 - teta3)) - 3.32800851970181*sin(teta2) + 0.133120340788072*cos(teta2) + 0.0496954081094017]\n",
      "\n",
      "Delta_P_Q[ 2 ] =  [-V3*(0.0171842511025259*V3 - 1.24976371654734*sin(teta2 - teta3) - 0.0171842511025259*cos(teta2 - teta3)) - 0.15]\n",
      "\n",
      "Delta_P_Q[ 3 ] =  [-V3*(1.24976371654734*V3 + 0.0171842511025259*sin(teta2 - teta3) - 1.24976371654734*cos(teta2 - teta3)) + 0.05]\n"
     ]
    }
   ],
   "source": [
    "#Variáveis de entrada\n",
    "teta2,teta3,V3 = var('teta2 teta3 V3')\n",
    "teta1, V1, V2 = 0, 1, 1\n",
    "\n",
    "# Potências esperadas nas barras \n",
    "P_esp_2 = Matriz_Barras[1][4]\n",
    "P_esp_3 = Matriz_Barras[2][4]\n",
    "Q_esp_3 = Matriz_Barras[2][5]\n",
    "\n",
    "# Vetor de potencias\n",
    "P2 = Lambda((teta2,teta3,V3), V2*( V1*(G[1,0]*cos(teta2-teta1) + B[1,0]*sin(teta2-teta1)) +\n",
    "                                   V3*(G[1,2]*cos(teta2-teta3) + B[1,2]*sin(teta2-teta3)) + \n",
    "                                   V2*(G[1,1]*cos(teta2-teta2) + B[1,1]*sin(teta2-teta2)) ))\n",
    "\n",
    "P3 = Lambda((teta2,teta3,V3), V3*( V3*(G[2,2]*cos(teta3-teta3) + B[2,2]*sin(teta3-teta3)) + \n",
    "                                   V2*(G[2,1]*cos(teta3-teta2) + B[2,1]*sin(teta3-teta2)) ))\n",
    "\n",
    "Q3 = Lambda((teta2,teta3,V3), V3*( V3*(G[2,2]*sin(teta3-teta3) - B[2,2]*cos(teta3-teta3)) + \n",
    "                                   V2*(G[2,1]*sin(teta3-teta2) - B[2,1]*cos(teta3-teta2)) ))\n",
    "\n",
    "Delta_P_Q = np.array([[P_esp_2 - P2(teta2,teta3,V3)], \n",
    "                      [P_esp_3 - P3(teta2,teta3,V3)], \n",
    "                      [Q_esp_3 - Q3(teta2,teta3,V3)]])\n",
    "\n",
    "for i in range(len(Delta_P_Q)):\n",
    "    print('\\nDelta_P_Q[',i+1,'] = ', Delta_P_Q[i])"
   ]
  },
  {
   "cell_type": "markdown",
   "metadata": {},
   "source": [
    "Parametros relacionados com a Jacobiana"
   ]
  },
  {
   "cell_type": "code",
   "execution_count": 9,
   "metadata": {},
   "outputs": [
    {
     "name": "stdout",
     "output_type": "stream",
     "text": [
      "J[ 1 ][ 1 ] =  -V3*(0.0171842511025259*sin(teta2 - teta3) + 1.24976371654734*cos(teta2 - teta3)) - 0.133120340788072*sin(teta2) - 3.32800851970181*cos(teta2)\n",
      "J[ 1 ][ 2 ] =  -V3*(-0.0171842511025259*sin(teta2 - teta3) - 1.24976371654734*cos(teta2 - teta3))\n",
      "J[ 1 ][ 3 ] =  -1.24976371654734*sin(teta2 - teta3) + 0.0171842511025259*cos(teta2 - teta3)\n",
      "\n",
      "\n",
      "J[ 2 ][ 1 ] =  -V3*(0.0171842511025259*sin(teta2 - teta3) - 1.24976371654734*cos(teta2 - teta3))\n",
      "J[ 2 ][ 2 ] =  -V3*(-0.0171842511025259*sin(teta2 - teta3) + 1.24976371654734*cos(teta2 - teta3))\n",
      "J[ 2 ][ 3 ] =  -0.0343685022050519*V3 + 1.24976371654734*sin(teta2 - teta3) + 0.0171842511025259*cos(teta2 - teta3)\n",
      "\n",
      "\n",
      "J[ 3 ][ 1 ] =  -V3*(1.24976371654734*sin(teta2 - teta3) + 0.0171842511025259*cos(teta2 - teta3))\n",
      "J[ 3 ][ 2 ] =  -V3*(-1.24976371654734*sin(teta2 - teta3) - 0.0171842511025259*cos(teta2 - teta3))\n",
      "J[ 3 ][ 3 ] =  -2.49952743309468*V3 - 0.0171842511025259*sin(teta2 - teta3) + 1.24976371654734*cos(teta2 - teta3)\n",
      "\n",
      "\n"
     ]
    }
   ],
   "source": [
    "# Matriz Jacobiana\n",
    "j11 = Lambda((teta2,teta3,V3), diff(P_esp_2 - P2(teta2,teta3,V3),teta2))\n",
    "j12 = Lambda((teta2,teta3,V3), diff(P_esp_2 - P2(teta2,teta3,V3),teta3))\n",
    "j13 = Lambda((teta2,teta3,V3), diff(P_esp_2 - P2(teta2,teta3,V3),V3))\n",
    "\n",
    "j21 = Lambda((teta2,teta3,V3), diff(P_esp_3 - P3(teta2,teta3,V3),teta2))\n",
    "j22 = Lambda((teta2,teta3,V3), diff(P_esp_3 - P3(teta2,teta3,V3),teta3))\n",
    "j23 = Lambda((teta2,teta3,V3), diff(P_esp_3 - P3(teta2,teta3,V3),V3))\n",
    "\n",
    "j31 = Lambda((teta2,teta3,V3), diff(Q_esp_3 - Q3(teta2,teta3,V3),teta2))\n",
    "j32 = Lambda((teta2,teta3,V3), diff(Q_esp_3 - Q3(teta2,teta3,V3),teta3))\n",
    "j33 = Lambda((teta2,teta3,V3), diff(Q_esp_3 - Q3(teta2,teta3,V3),V3))\n",
    "\n",
    "J = np.array([[j11(teta2,teta3,V3), j12(teta2,teta3,V3), j13(teta2,teta3,V3)],\n",
    "              [j21(teta2,teta3,V3), j22(teta2,teta3,V3), j23(teta2,teta3,V3)],\n",
    "              [j31(teta2,teta3,V3), j32(teta2,teta3,V3), j33(teta2,teta3,V3)]])\n",
    "\n",
    "#J_inv = np.linalg.inv(J)\n",
    "\n",
    "for i in range(len(J)):\n",
    "    for j in range(len(J)):\n",
    "        print('J[',i+1,'][',j+1,'] = ', J[i][j])\n",
    "    print('\\n')\n"
   ]
  },
  {
   "cell_type": "code",
   "execution_count": 7,
   "metadata": {},
   "outputs": [],
   "source": [
    "# Vetor inicial\n",
    "# teta2, teta3, V3 = 0, 0, 1\n",
    "teta2_inicial, teta3_inicial, V3_inicial = 0, 0, 1\n",
    "X = np.array([[teta2_inicial], \n",
    "              [teta3_inicial],\n",
    "              [V3_inicial]])\n",
    "\n",
    "Delta_teta_V = np.array([[teta2_inicial + teta2], \n",
    "                         [teta3_inicial + teta3], \n",
    "                         [V3_inicial + V3]])\n",
    "\n",
    "# Erro\n",
    "Ep = 0.001\n",
    "Eq = 0.001\n",
    "\n",
    "# Numeros de iterações\n",
    "iteracao = 0"
   ]
  },
  {
   "cell_type": "code",
   "execution_count": 36,
   "metadata": {},
   "outputs": [
    {
     "data": {
      "text/plain": [
       "'Delta_P_Q = np.array([[P_esp_2 - P2(teta2,teta3,V3)], \\n                      [P_esp_3 - P3(teta2,teta3,V3)], \\n                      [Q_esp_3 - Q3(teta2,teta3,V3)]])'"
      ]
     },
     "execution_count": 36,
     "metadata": {},
     "output_type": "execute_result"
    }
   ],
   "source": [
    "def substitution(Funcao, X):\n",
    "    return Subs(Funcao, (teta2,teta3,V3), X)\n",
    "\n",
    "'''Delta_P_Q = np.array([[P_esp_2 - P2(teta2,teta3,V3)], \n",
    "                      [P_esp_3 - P3(teta2,teta3,V3)], \n",
    "                      [Q_esp_3 - Q3(teta2,teta3,V3)]])'''\n",
    "\n"
   ]
  },
  {
   "cell_type": "code",
   "execution_count": 43,
   "metadata": {},
   "outputs": [
    {
     "name": "stdout",
     "output_type": "stream",
     "text": [
      "\n",
      "Iteração:  1\n",
      "\n",
      "X =  [[0]\n",
      " [0]\n",
      " [1]]\n",
      "\n",
      "Delta_teta_V =  Subs([[teta2], [teta3], [V3 + 1]], (teta2, teta3, V3), ([0], [0], [1]))\n",
      "\n",
      "Delta_P_Q =  Subs([[-V3*(1.24976371654734*sin(teta2 - teta3) - 0.0171842511025259*cos(teta2 - teta3)) - 3.32800851970181*sin(teta2) + 0.133120340788072*cos(teta2) + 0.0496954081094017], [-V3*(0.0171842511025259*V3 - 1.24976371654734*sin(teta2 - teta3) - 0.0171842511025259*cos(teta2 - teta3)) - 0.15], [-V3*(1.24976371654734*V3 + 0.0171842511025259*sin(teta2 - teta3) - 1.24976371654734*cos(teta2 - teta3)) + 0.05]], (teta2, teta3, V3), ([0], [0], [1]))\n",
      "\n",
      "J =  Subs([[-V3*(0.0171842511025259*sin(teta2 - teta3) + 1.24976371654734*cos(teta2 - teta3)) - 0.133120340788072*sin(teta2) - 3.32800851970181*cos(teta2), -V3*(-0.0171842511025259*sin(teta2 - teta3) - 1.24976371654734*cos(teta2 - teta3)), -1.24976371654734*sin(teta2 - teta3) + 0.0171842511025259*cos(teta2 - teta3)], [-V3*(0.0171842511025259*sin(teta2 - teta3) - 1.24976371654734*cos(teta2 - teta3)), -V3*(-0.0171842511025259*sin(teta2 - teta3) + 1.24976371654734*cos(teta2 - teta3)), -0.0343685022050519*V3 + 1.24976371654734*sin(teta2 - teta3) + 0.0171842511025259*cos(teta2 - teta3)], [-V3*(1.24976371654734*sin(teta2 - teta3) + 0.0171842511025259*cos(teta2 - teta3)), -V3*(-1.24976371654734*sin(teta2 - teta3) - 0.0171842511025259*cos(teta2 - teta3)), -2.49952743309468*V3 - 0.0171842511025259*sin(teta2 - teta3) + 1.24976371654734*cos(teta2 - teta3)]], (teta2, teta3, V3), ([0], [0], [1]))\n"
     ]
    }
   ],
   "source": [
    "print('\\nIteração: ', iteracao)\n",
    "print('\\nX = ', X)\n",
    "print('\\nDelta_teta_V = ', substitution(Delta_teta_V, X))\n",
    "print('\\nDelta_P_Q = ', substitution(Delta_P_Q, X))\n",
    "print('\\nJ = ', substitution(J, X))\n"
   ]
  },
  {
   "cell_type": "code",
   "execution_count": 38,
   "metadata": {},
   "outputs": [
    {
     "name": "stdout",
     "output_type": "stream",
     "text": [
      "\n",
      "Iteração:  1\n",
      "\n",
      "X =  [[0]\n",
      " [0]\n",
      " [1]]\n",
      "\n",
      "Delta_teta_V =  [[teta2]\n",
      " [teta3]\n",
      " [V3 + 1]]\n",
      "\n",
      "Delta_P_Q =  [[-V3*(1.24976371654734*sin(teta2 - teta3) - 0.0171842511025259*cos(teta2 - teta3)) - 3.32800851970181*sin(teta2) + 0.133120340788072*cos(teta2) + 0.0496954081094017]\n",
      " [-V3*(0.0171842511025259*V3 - 1.24976371654734*sin(teta2 - teta3) - 0.0171842511025259*cos(teta2 - teta3)) - 0.15]\n",
      " [-V3*(1.24976371654734*V3 + 0.0171842511025259*sin(teta2 - teta3) - 1.24976371654734*cos(teta2 - teta3)) + 0.05]]\n",
      "\n",
      "J =  [[-V3*(0.0171842511025259*sin(teta2 - teta3) + 1.24976371654734*cos(teta2 - teta3)) - 0.133120340788072*sin(teta2) - 3.32800851970181*cos(teta2)\n",
      "  -V3*(-0.0171842511025259*sin(teta2 - teta3) - 1.24976371654734*cos(teta2 - teta3))\n",
      "  -1.24976371654734*sin(teta2 - teta3) + 0.0171842511025259*cos(teta2 - teta3)]\n",
      " [-V3*(0.0171842511025259*sin(teta2 - teta3) - 1.24976371654734*cos(teta2 - teta3))\n",
      "  -V3*(-0.0171842511025259*sin(teta2 - teta3) + 1.24976371654734*cos(teta2 - teta3))\n",
      "  -0.0343685022050519*V3 + 1.24976371654734*sin(teta2 - teta3) + 0.0171842511025259*cos(teta2 - teta3)]\n",
      " [-V3*(1.24976371654734*sin(teta2 - teta3) + 0.0171842511025259*cos(teta2 - teta3))\n",
      "  -V3*(-1.24976371654734*sin(teta2 - teta3) - 0.0171842511025259*cos(teta2 - teta3))\n",
      "  -2.49952743309468*V3 - 0.0171842511025259*sin(teta2 - teta3) + 1.24976371654734*cos(teta2 - teta3)]]\n"
     ]
    },
    {
     "ename": "TypeError",
     "evalue": "No loop matching the specified signature and casting was found for ufunc inv",
     "output_type": "error",
     "traceback": [
      "\u001b[1;31m---------------------------------------------------------------------------\u001b[0m",
      "\u001b[1;31mTypeError\u001b[0m                                 Traceback (most recent call last)",
      "\u001b[1;32m<ipython-input-38-33c141dd08df>\u001b[0m in \u001b[0;36m<module>\u001b[1;34m\u001b[0m\n\u001b[0;32m      9\u001b[0m \u001b[1;33m\u001b[0m\u001b[0m\n\u001b[0;32m     10\u001b[0m     \u001b[1;31m# Resposta\u001b[0m\u001b[1;33m\u001b[0m\u001b[1;33m\u001b[0m\u001b[1;33m\u001b[0m\u001b[0m\n\u001b[1;32m---> 11\u001b[1;33m     \u001b[0mX_resp\u001b[0m \u001b[1;33m=\u001b[0m \u001b[0mX\u001b[0m \u001b[1;33m-\u001b[0m \u001b[0mnp\u001b[0m\u001b[1;33m.\u001b[0m\u001b[0mdot\u001b[0m\u001b[1;33m(\u001b[0m\u001b[0mnp\u001b[0m\u001b[1;33m.\u001b[0m\u001b[0mlinalg\u001b[0m\u001b[1;33m.\u001b[0m\u001b[0minv\u001b[0m\u001b[1;33m(\u001b[0m\u001b[0mJ\u001b[0m\u001b[1;33m)\u001b[0m\u001b[1;33m,\u001b[0m \u001b[0mDelta_P_Q\u001b[0m\u001b[1;33m)\u001b[0m\u001b[1;33m\u001b[0m\u001b[1;33m\u001b[0m\u001b[0m\n\u001b[0m\u001b[0;32m     12\u001b[0m     \u001b[0mprint\u001b[0m\u001b[1;33m(\u001b[0m\u001b[1;34m'\\nX_resp = '\u001b[0m\u001b[1;33m,\u001b[0m \u001b[0mX_resp\u001b[0m\u001b[1;33m)\u001b[0m\u001b[1;33m\u001b[0m\u001b[1;33m\u001b[0m\u001b[0m\n\u001b[0;32m     13\u001b[0m \u001b[1;33m\u001b[0m\u001b[0m\n",
      "\u001b[1;32m<__array_function__ internals>\u001b[0m in \u001b[0;36minv\u001b[1;34m(*args, **kwargs)\u001b[0m\n",
      "\u001b[1;32m~\\anaconda3\\lib\\site-packages\\numpy\\linalg\\linalg.py\u001b[0m in \u001b[0;36minv\u001b[1;34m(a)\u001b[0m\n\u001b[0;32m    543\u001b[0m     \u001b[0msignature\u001b[0m \u001b[1;33m=\u001b[0m \u001b[1;34m'D->D'\u001b[0m \u001b[1;32mif\u001b[0m \u001b[0misComplexType\u001b[0m\u001b[1;33m(\u001b[0m\u001b[0mt\u001b[0m\u001b[1;33m)\u001b[0m \u001b[1;32melse\u001b[0m \u001b[1;34m'd->d'\u001b[0m\u001b[1;33m\u001b[0m\u001b[1;33m\u001b[0m\u001b[0m\n\u001b[0;32m    544\u001b[0m     \u001b[0mextobj\u001b[0m \u001b[1;33m=\u001b[0m \u001b[0mget_linalg_error_extobj\u001b[0m\u001b[1;33m(\u001b[0m\u001b[0m_raise_linalgerror_singular\u001b[0m\u001b[1;33m)\u001b[0m\u001b[1;33m\u001b[0m\u001b[1;33m\u001b[0m\u001b[0m\n\u001b[1;32m--> 545\u001b[1;33m     \u001b[0mainv\u001b[0m \u001b[1;33m=\u001b[0m \u001b[0m_umath_linalg\u001b[0m\u001b[1;33m.\u001b[0m\u001b[0minv\u001b[0m\u001b[1;33m(\u001b[0m\u001b[0ma\u001b[0m\u001b[1;33m,\u001b[0m \u001b[0msignature\u001b[0m\u001b[1;33m=\u001b[0m\u001b[0msignature\u001b[0m\u001b[1;33m,\u001b[0m \u001b[0mextobj\u001b[0m\u001b[1;33m=\u001b[0m\u001b[0mextobj\u001b[0m\u001b[1;33m)\u001b[0m\u001b[1;33m\u001b[0m\u001b[1;33m\u001b[0m\u001b[0m\n\u001b[0m\u001b[0;32m    546\u001b[0m     \u001b[1;32mreturn\u001b[0m \u001b[0mwrap\u001b[0m\u001b[1;33m(\u001b[0m\u001b[0mainv\u001b[0m\u001b[1;33m.\u001b[0m\u001b[0mastype\u001b[0m\u001b[1;33m(\u001b[0m\u001b[0mresult_t\u001b[0m\u001b[1;33m,\u001b[0m \u001b[0mcopy\u001b[0m\u001b[1;33m=\u001b[0m\u001b[1;32mFalse\u001b[0m\u001b[1;33m)\u001b[0m\u001b[1;33m)\u001b[0m\u001b[1;33m\u001b[0m\u001b[1;33m\u001b[0m\u001b[0m\n\u001b[0;32m    547\u001b[0m \u001b[1;33m\u001b[0m\u001b[0m\n",
      "\u001b[1;31mTypeError\u001b[0m: No loop matching the specified signature and casting was found for ufunc inv"
     ]
    }
   ],
   "source": [
    "#Algoritmo de Newton-Raphson\n",
    "while(True):\n",
    "    iteracao += 1\n",
    "    print('\\nIteração: ', iteracao)\n",
    "    print('\\nX = ', X)\n",
    "    print('\\nDelta_teta_V = ', Delta_teta_V)\n",
    "    print('\\nDelta_P_Q = ', Delta_P_Q)\n",
    "    print('\\nJ = ', J)\n",
    "\n",
    "    # Resposta\n",
    "    X_resp = X - np.dot(np.linalg.inv(J), Delta_P_Q)\n",
    "    print('\\nX_resp = ', X_resp)\n",
    "\n",
    "    # Erro\n",
    "    Erro_teta_V = np.linalg.norm(Delta_teta_V - X_resp[0:3])\n",
    "    Erro_P_Q = np.linalg.norm(Delta_P_Q)\n",
    "\n",
    "    print('\\nErro_teta_V = ', Erro_teta_V)\n",
    "    print('\\nErro_P_Q = ', Erro_P_Q)\n",
    "\n",
    "    # Verificação do erro\n",
    "    if Erro_teta_V < Ep and Erro_P_Q < Eq:\n",
    "        break\n",
    "    else:\n",
    "        X = X_resp"
   ]
  }
 ],
 "metadata": {
  "interpreter": {
   "hash": "d012ca61647e472ccba26ea4e2ce3b3982dfcdcbbcaba85753d62c8f1b239abb"
  },
  "kernelspec": {
   "display_name": "Python 3.8.8 ('base')",
   "language": "python",
   "name": "python3"
  },
  "language_info": {
   "codemirror_mode": {
    "name": "ipython",
    "version": 3
   },
   "file_extension": ".py",
   "mimetype": "text/x-python",
   "name": "python",
   "nbconvert_exporter": "python",
   "pygments_lexer": "ipython3",
   "version": "3.8.8"
  },
  "orig_nbformat": 4
 },
 "nbformat": 4,
 "nbformat_minor": 2
}
