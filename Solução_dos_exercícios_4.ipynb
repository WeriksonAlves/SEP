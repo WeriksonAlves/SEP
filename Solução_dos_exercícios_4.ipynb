{
 "cells": [
  {
   "cell_type": "code",
   "execution_count": 14,
   "metadata": {},
   "outputs": [],
   "source": [
    "import numpy as np\n",
    "from sympy import * #var, Lambda, exp, log, sin, cos, tan, sqrt, ln"
   ]
  },
  {
   "cell_type": "code",
   "execution_count": 15,
   "metadata": {},
   "outputs": [],
   "source": [
    "y12 = -1/(0.01+0.05j)\n",
    "y21 = -1/(0.01+0.05j)\n",
    "y11 = -y12\n",
    "y22 = -y12\n",
    "\n",
    "#Matriz de admitância\n",
    "Y = np.empty((2), dtype=complex) #ordem da matriz\n",
    "Y = np.array([[y11, y12], [y21, y22]])\n",
    "G = Y.real\n",
    "B = Y.imag\n",
    "\n",
    "#Variáveis de entrada\n",
    "teta2, V2 = var('teta2 V2')\n",
    "x = np.array([[teta2],[V2]])\n",
    "teta1 = 0\n",
    "V1 = 1\n",
    "\n",
    "# Potências esperadas nas barras \n",
    "P_esp_2 = -1\n",
    "Q_esp_2 = -0\n",
    "\n",
    "# Vetor de potencias\n",
    "P2 = Lambda((teta2, V2), V2*V1*(G[1,0]*cos(teta2-teta1) + B[1,0]*sin(teta2-teta1)) + G[1,1]*V2**2)\n",
    "Q2 = Lambda((teta2, V2), V2*V1*(G[1,0]*sin(teta2-teta1) - B[1,0]*cos(teta2-teta1)) + B[1,1]*V2**2)\n",
    "y = np.array([[P_esp_2 - P2(teta2, V2)], [Q_esp_2 - Q2(teta2, V2)]])\n",
    "\n",
    "# Matriz Jacobiana\n",
    "H22 = Lambda((teta2, V2), diff(P2(teta2, V2),teta2)).simplify()\n",
    "N22 = Lambda((teta2, V2), diff(P2(teta2, V2),V2)).simplify()\n",
    "M22 = Lambda((teta2, V2), diff(Q2(teta2, V2),teta2)).simplify()\n",
    "L22 = Lambda((teta2, V2), diff(Q2(teta2, V2),V2)).simplify()\n",
    "J = np.array([[H22(teta2, V2), N22(teta2, V2)], [M22(teta2, V2), L22(teta2, V2)]])\n",
    "\n",
    "# Vetor inicial\n",
    "x0 = np.array([[0], [1]])\n",
    "\n",
    "# Erro\n",
    "e = 1e-6\n",
    "\n",
    "# Numeros de iterações\n",
    "iter = 0"
   ]
  },
  {
   "cell_type": "code",
   "execution_count": 16,
   "metadata": {},
   "outputs": [
    {
     "name": "stdout",
     "output_type": "stream",
     "text": [
      "\n",
      "Y =  [[ 3.84615385-19.23076923j -3.84615385+19.23076923j]\n",
      " [-3.84615385+19.23076923j  3.84615385-19.23076923j]]\n",
      "\n",
      "G =  [[ 3.84615385 -3.84615385]\n",
      " [-3.84615385  3.84615385]]\n",
      "\n",
      "B =  [[-19.23076923  19.23076923]\n",
      " [ 19.23076923 -19.23076923]]\n",
      "\n",
      "\n",
      "y[ 0 ] =  [-3.84615384615385*V2**2 - V2*(19.2307692307692*sin(teta2) - 3.84615384615385*cos(teta2)) - 1]\n",
      "y[ 1 ] =  [19.2307692307692*V2**2 - V2*(-3.84615384615385*sin(teta2) - 19.2307692307692*cos(teta2))]\n",
      "\n",
      "\n",
      "x[ 0 ] =  [teta2]\n",
      "x[ 1 ] =  [V2]\n",
      "\n",
      "\n",
      "J[ 0 ][ 0 ] =  V2*(3.84615384615385*sin(teta2) + 19.2307692307692*cos(teta2))\n",
      "J[ 0 ][ 1 ] =  7.69230769230769*V2 + 19.2307692307692*sin(teta2) - 3.84615384615385*cos(teta2)\n",
      "J[ 1 ][ 0 ] =  V2*(19.2307692307692*sin(teta2) - 3.84615384615385*cos(teta2))\n",
      "J[ 1 ][ 1 ] =  -38.4615384615385*V2 - 3.84615384615385*sin(teta2) - 19.2307692307692*cos(teta2)\n",
      "\n",
      "\n"
     ]
    }
   ],
   "source": [
    "# Solução\n",
    "\n",
    "print('\\nY = ', Y)\n",
    "print('\\nG = ', G)\n",
    "print('\\nB = ', B)\n",
    "print('\\n')\n",
    "\n",
    "for i in range(len(y)):\n",
    "    print('y[',i,'] = ', y[i])\n",
    "print('\\n')\n",
    "\n",
    "for i in range(len(x)):\n",
    "    print('x[',i,'] = ', x[i])\n",
    "print('\\n')\n",
    "\n",
    "for i in range(len(J)):\n",
    "    for j in range(len(J)):\n",
    "        print('J[',i,'][',j,'] = ', J[i][j])\n",
    "print('\\n')"
   ]
  },
  {
   "cell_type": "code",
   "execution_count": 45,
   "metadata": {},
   "outputs": [
    {
     "data": {
      "text/plain": [
       "\"def passo7(xn):\\n    print('\\nSolução:')\\n    print('\\nxn = ', xn.T)\\n    print('\\nx = ', x0.T)\\n    print('\\n')\""
      ]
     },
     "execution_count": 45,
     "metadata": {},
     "output_type": "execute_result"
    }
   ],
   "source": [
    "def passo2(x0, P2, Q2):\n",
    "    delta_P2 = P_esp_2 - P2(teta2, V2)\n",
    "    delta_Q2 = Q_esp_2 - Q2(teta2, V2)\n",
    "    teta22 = x0[0]\n",
    "    V22 = x0[1]\n",
    "    delta_P2 = P_esp_2 - P2(teta22, V22)\n",
    "    delta_Q2 = Q_esp_2 - Q2(teta22, V22)\n",
    "    x1 = (P2(teta2, V2), (teta2, V2), (x0[0], x0[1]))\n",
    "    x2 = (Q2(teta2, V2), (teta2, V2), (x0[0], x0[1]))\n",
    "\n",
    "    xn = np.array([x1, x2])\n",
    "    deltay = np.array([delta_P2, delta_Q2])\n",
    "\n",
    "    print('\\nxn = ', xn.T)\n",
    "    print('\\ndelta = ', deltay.T)\n",
    "\n",
    "    passo3(xn, deltay)\n",
    "\n",
    "def passo3(xn, deltay):\n",
    "    if (max(deltay) <= e):\n",
    "        passo7(xn)\n",
    "    else:\n",
    "        passo4_5_6(xn, deltay, J)\n",
    "\n",
    "def passo4_5_6(xn, deltay, J):\n",
    "    Jn = np.array([[J[0][0](xn[0], xn[1]), J[0][1](xn[0], xn[1])], [J[1][0](xn[0], xn[1]), J[1][1](xn[0], xn[1])]])\n",
    "    print('\\nJn = ', Jn)\n",
    "\n",
    "    Jn_inv = np.linalg.inv(Jn)\n",
    "    print('\\nJn_inv = ', Jn_inv)\n",
    "    deltax = Jn_inv*deltay\n",
    "    print('\\ndelta_x = ', deltax.T)\n",
    "\n",
    "    x0[0] = x[0] + deltax[0]\n",
    "    x0[1] = x[1] + deltax[1]\n",
    "     \n",
    "    iter += 1\n",
    "    print('\\nIteração ', iter)\n",
    "    passo2(x0, P2, Q2)\n",
    "    \n",
    "'''def passo7(xn):\n",
    "    print('\\nSolução:')\n",
    "    print('\\nxn = ', xn.T)\n",
    "    print('\\nx = ', x0.T)\n",
    "    print('\\n')'''"
   ]
  },
  {
   "cell_type": "code",
   "execution_count": 47,
   "metadata": {},
   "outputs": [
    {
     "name": "stdout",
     "output_type": "stream",
     "text": [
      "P2 =  V2*(3.84615384615385*V2 + 19.2307692307692*sin(teta2) - 3.84615384615385*cos(teta2))\n",
      "Q2 =  -V2*(19.2307692307692*V2 + 3.84615384615385*sin(teta2) + 19.2307692307692*cos(teta2))\n",
      "H =  V2*(3.84615384615385*sin(teta2) + 19.2307692307692*cos(teta2))\n",
      "N =  7.69230769230769*V2 + 19.2307692307692*sin(teta2) - 3.84615384615385*cos(teta2)\n",
      "M =  V2*(19.2307692307692*sin(teta2) - 3.84615384615385*cos(teta2))\n",
      "L =  -38.4615384615385*V2 - 3.84615384615385*sin(teta2) - 19.2307692307692*cos(teta2)\n",
      "delta_P2 =  V2*(19.2307692307692*sin(teta2) - 3.84615384615385*cos(teta2))\n",
      "delta_Q2 =  Lambda((teta2, V2), -V2*(19.2307692307692*V2 + 3.84615384615385*sin(teta2) + 19.2307692307692*cos(teta2)))\n"
     ]
    }
   ],
   "source": [
    "teta2, V2 = var('teta2 V2')\n",
    "teta1 = 0\n",
    "V1 = 1\n",
    "\n",
    "P2 = Lambda((teta2, V2), V2*V1*(G[1,0]*cos(teta2-teta1) + B[1,0]*sin(teta2-teta1)) + G[1,1]*V2**2).simplify()\n",
    "Q2 = Lambda((teta2, V2), V2*V1*(G[1,0]*sin(teta2-teta1) - B[1,0]*cos(teta2-teta1)) + B[1,1]*V2**2).simplify()\n",
    "\n",
    "print('P2 = ', P2(teta2, V2))\n",
    "print('Q2 = ', Q2(teta2, V2))\n",
    "\n",
    "P_esp_2 = -1\n",
    "Q_esp_2 = -0\n",
    "\n",
    "teta2_inicial = 0\n",
    "V2_inicial = 1\n",
    "\n",
    "H = Lambda((teta2, V2), diff(P2(teta2, V2),teta2)).simplify()\n",
    "N = Lambda((teta2, V2), diff(P2(teta2, V2),V2)).simplify()\n",
    "M = Lambda((teta2, V2), diff(Q2(teta2, V2),teta2)).simplify()\n",
    "L = Lambda((teta2, V2), diff(Q2(teta2, V2),V2)).simplify()\n",
    "\n",
    "print('H = ', H(teta2, V2))\n",
    "print('N = ', N(teta2, V2))\n",
    "print('M = ', M(teta2, V2))\n",
    "print('L = ', L(teta2, V2))\n",
    "\n",
    "delta_P2 = P_esp_2 - P2(teta2, V2)\n",
    "delta_Q2 = Q_esp_2 - Q2(teta2, V2)\n",
    "\n",
    "print('delta_P2 = ', M(teta2, V2))\n",
    "print('delta_Q2 = ', Q2)\n"
   ]
  },
  {
   "cell_type": "code",
   "execution_count": null,
   "metadata": {},
   "outputs": [
    {
     "name": "stdout",
     "output_type": "stream",
     "text": [
      "[V2*(3.84615384615385*V2 + 19.2307692307692*sin(teta2) - 3.84615384615385*cos(teta2))] 2\n",
      "[-V2*(19.2307692307692*V2 + 3.84615384615385*sin(teta2) + 19.2307692307692*cos(teta2))] 2\n"
     ]
    }
   ],
   "source": [
    "l = [[P2(teta2, V2)], [Q2(teta2, V2)]]\n",
    "for i in range(len(l)):\n",
    "    print(l[i],len(l) )"
   ]
  }
 ],
 "metadata": {
  "interpreter": {
   "hash": "d012ca61647e472ccba26ea4e2ce3b3982dfcdcbbcaba85753d62c8f1b239abb"
  },
  "kernelspec": {
   "display_name": "Python 3.8.8 ('base')",
   "language": "python",
   "name": "python3"
  },
  "language_info": {
   "codemirror_mode": {
    "name": "ipython",
    "version": 3
   },
   "file_extension": ".py",
   "mimetype": "text/x-python",
   "name": "python",
   "nbconvert_exporter": "python",
   "pygments_lexer": "ipython3",
   "version": "3.8.8"
  },
  "orig_nbformat": 4
 },
 "nbformat": 4,
 "nbformat_minor": 2
}
