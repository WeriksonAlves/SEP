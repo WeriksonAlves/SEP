{
 "cells": [
  {
   "cell_type": "markdown",
   "metadata": {},
   "source": [
    "Autor: Werikson Alves\n",
    "\n",
    "Codigo para calulo para fluxo de potencias pelo metodo de Newton-Raphson"
   ]
  },
  {
   "cell_type": "code",
   "execution_count": 1,
   "metadata": {},
   "outputs": [],
   "source": [
    "import numpy as np\n",
    "from sympy import * #var, Lambda, exp, log, sin, cos, tan, sqrt, ln"
   ]
  },
  {
   "cell_type": "markdown",
   "metadata": {},
   "source": [
    "Parametros relacionados com a impedancia"
   ]
  },
  {
   "cell_type": "code",
   "execution_count": 2,
   "metadata": {},
   "outputs": [
    {
     "name": "stdout",
     "output_type": "stream",
     "text": [
      "\n",
      "Y =  [[ 0.16625104-3.32502078j -0.16625104+3.32502078j  0.        +0.j        ]\n",
      " [-0.16625104+3.32502078j  0.1896803 -4.57458148j -0.02342926+1.2495607j ]\n",
      " [ 0.        +0.j         -0.02342926+1.2495607j   0.02342926-1.2495607j ]]\n",
      "\n",
      "G =  [[ 0.16625104 -0.16625104  0.        ]\n",
      " [-0.16625104  0.1896803  -0.02342926]\n",
      " [ 0.         -0.02342926  0.02342926]]\n",
      "\n",
      "B =  [[-3.32502078  3.32502078  0.        ]\n",
      " [ 3.32502078 -4.57458148  1.2495607 ]\n",
      " [ 0.          1.2495607  -1.2495607 ]]\n"
     ]
    }
   ],
   "source": [
    "# Dados iniciais [n,    Tipo,   V, teta,     P,     Q]\n",
    "Matriz_Barras = [[1, 'VTeta',   1,    0,   '?',   '?'],\n",
    "                 [2,    'PV',   1,  '?',   0.2,   '?'],\n",
    "                 [3,    'PQ', '?',  '?', -0.15,  0.05]]\n",
    "\n",
    "# Dados iniciais      [k, m, Z_km]\n",
    "Matriz_Impedancias = [[1, 2, complex(0.015, 0.3)],\n",
    "                      [2, 3, complex(0.015, 0.8)]]\n",
    "\n",
    "y11 =  (Matriz_Impedancias[0][2])**(-1)\n",
    "y12 = -(Matriz_Impedancias[0][2])**(-1)\n",
    "y13 =  0\n",
    "y21 =  y12\n",
    "y22 =  (Matriz_Impedancias[0][2])**(-1) + (Matriz_Impedancias[1][2])**(-1)\n",
    "y23 = -(Matriz_Impedancias[1][2])**(-1)\n",
    "y31 =  y13\n",
    "y32 =  y23\n",
    "y33 =  (Matriz_Impedancias[1][2])**(-1)\n",
    "\n",
    "Y = np.array([[y11, y12,y13], [y21, y22, y23], [y31, y32, y33]]) # Matriz Adimitancia\n",
    "\n",
    "G = Y.real\n",
    "B = Y.imag\n",
    "\n",
    "print('\\nY = ', Y)\n",
    "print('\\nG = ', G)\n",
    "print('\\nB = ', B)"
   ]
  },
  {
   "cell_type": "markdown",
   "metadata": {},
   "source": [
    "Parametros relacionados com as potencias"
   ]
  },
  {
   "cell_type": "code",
   "execution_count": 3,
   "metadata": {},
   "outputs": [
    {
     "name": "stdout",
     "output_type": "stream",
     "text": [
      "\n",
      "Delta_P_Q[ 1 ] =  -V3*(1.24956070131594*sin(teta2 - teta3) - 0.0234292631496739*cos(teta2 - teta3)) - 3.32502078137988*sin(teta2) + 0.166251039068994*cos(teta2) + 0.0103196977813318\n",
      "\n",
      "Delta_P_Q[ 2 ] =  -V3*(0.0234292631496739*V3 - 1.24956070131594*sin(teta2 - teta3) - 0.0234292631496739*cos(teta2 - teta3)) - 0.15\n",
      "\n",
      "Delta_P_Q[ 3 ] =  -V3*(1.24956070131594*V3 + 0.0234292631496739*sin(teta2 - teta3) - 1.24956070131594*cos(teta2 - teta3)) + 0.05\n"
     ]
    }
   ],
   "source": [
    "teta2,teta3,V3 = var('teta2 teta3 V3') # Variaveis simbolicas\n",
    "teta1, V1, V2 = Matriz_Barras[0][3], Matriz_Barras[0][2], Matriz_Barras[1][2] # Variaveis numericas\n",
    "\n",
    "# Potências esperadas nas barras \n",
    "P_esp_2 = Matriz_Barras[1][4]\n",
    "P_esp_3 = Matriz_Barras[2][4]\n",
    "Q_esp_3 = Matriz_Barras[2][5]\n",
    "\n",
    "# Vetor de potencias\n",
    "DeltaP2 = Lambda((teta2,teta3,V3), P_esp_2 - V2*( V1*(G[1,0]*cos(teta2-teta1) + B[1,0]*sin(teta2-teta1)) +\n",
    "                                                  V3*(G[1,2]*cos(teta2-teta3) + B[1,2]*sin(teta2-teta3)) + \n",
    "                                                  V2*(G[1,1]*cos(teta2-teta2) + B[1,1]*sin(teta2-teta2)) ))\n",
    "\n",
    "DeltaP3 = Lambda((teta2,teta3,V3), P_esp_3 - V3*( V3*(G[2,2]*cos(teta3-teta3) + B[2,2]*sin(teta3-teta3)) + \n",
    "                                             V2*(G[2,1]*cos(teta3-teta2) + B[2,1]*sin(teta3-teta2)) ))\n",
    "\n",
    "DeltaQ3 = Lambda((teta2,teta3,V3), Q_esp_3 - V3*( V3*(G[2,2]*sin(teta3-teta3) - B[2,2]*cos(teta3-teta3)) + \n",
    "                                             V2*(G[2,1]*sin(teta3-teta2) - B[2,1]*cos(teta3-teta2)) ))\n",
    "\n",
    "Delta_P_Q = [[DeltaP2],[DeltaP3],[DeltaQ3]]\n",
    "\n",
    "for i in range(len(Delta_P_Q)):\n",
    "    print('\\nDelta_P_Q[',i+1,'] = ', Delta_P_Q[i][0](teta2,teta3,V3))"
   ]
  },
  {
   "cell_type": "markdown",
   "metadata": {},
   "source": [
    "Parametros relacionados com a Jacobiana"
   ]
  },
  {
   "cell_type": "code",
   "execution_count": 4,
   "metadata": {},
   "outputs": [
    {
     "name": "stdout",
     "output_type": "stream",
     "text": [
      "J[ 1 ][ 1 ] =  -V3*(0.0234292631496739*sin(teta2 - teta3) + 1.24956070131594*cos(teta2 - teta3)) - 0.166251039068994*sin(teta2) - 3.32502078137988*cos(teta2)\n",
      "J[ 1 ][ 2 ] =  -V3*(-0.0234292631496739*sin(teta2 - teta3) - 1.24956070131594*cos(teta2 - teta3))\n",
      "J[ 1 ][ 3 ] =  -1.24956070131594*sin(teta2 - teta3) + 0.0234292631496739*cos(teta2 - teta3)\n",
      "\n",
      "\n",
      "J[ 2 ][ 1 ] =  -V3*(0.0234292631496739*sin(teta2 - teta3) - 1.24956070131594*cos(teta2 - teta3))\n",
      "J[ 2 ][ 2 ] =  -V3*(-0.0234292631496739*sin(teta2 - teta3) + 1.24956070131594*cos(teta2 - teta3))\n",
      "J[ 2 ][ 3 ] =  -0.0468585262993479*V3 + 1.24956070131594*sin(teta2 - teta3) + 0.0234292631496739*cos(teta2 - teta3)\n",
      "\n",
      "\n",
      "J[ 3 ][ 1 ] =  -V3*(1.24956070131594*sin(teta2 - teta3) + 0.0234292631496739*cos(teta2 - teta3))\n",
      "J[ 3 ][ 2 ] =  -V3*(-1.24956070131594*sin(teta2 - teta3) - 0.0234292631496739*cos(teta2 - teta3))\n",
      "J[ 3 ][ 3 ] =  -2.49912140263189*V3 - 0.0234292631496739*sin(teta2 - teta3) + 1.24956070131594*cos(teta2 - teta3)\n",
      "\n",
      "\n"
     ]
    }
   ],
   "source": [
    "# Matriz Jacobiana\n",
    "j11 = Lambda((teta2,teta3,V3), diff(DeltaP2(teta2,teta3,V3),teta2))\n",
    "j12 = Lambda((teta2,teta3,V3), diff(DeltaP2(teta2,teta3,V3),teta3))\n",
    "j13 = Lambda((teta2,teta3,V3), diff(DeltaP2(teta2,teta3,V3),V3))\n",
    "\n",
    "j21 = Lambda((teta2,teta3,V3), diff(DeltaP3(teta2,teta3,V3),teta2))\n",
    "j22 = Lambda((teta2,teta3,V3), diff(DeltaP3(teta2,teta3,V3),teta3))\n",
    "j23 = Lambda((teta2,teta3,V3), diff(DeltaP3(teta2,teta3,V3),V3))\n",
    "\n",
    "j31 = Lambda((teta2,teta3,V3), diff(DeltaQ3(teta2,teta3,V3),teta2))\n",
    "j32 = Lambda((teta2,teta3,V3), diff(DeltaQ3(teta2,teta3,V3),teta3))\n",
    "j33 = Lambda((teta2,teta3,V3), diff(DeltaQ3(teta2,teta3,V3),V3))\n",
    "\n",
    "J = [[j11, j12, j13],\n",
    "     [j21, j22, j23],\n",
    "     [j31, j32, j33]]\n",
    "\n",
    "#J_inv = Inverse(J)\n",
    "\n",
    "for i in range(len(J)):\n",
    "    for j in range(len(J)):\n",
    "        print('J[',i+1,'][',j+1,'] = ', J[i][j](teta2,teta3,V3))\n",
    "    print('\\n')\n"
   ]
  },
  {
   "cell_type": "code",
   "execution_count": 5,
   "metadata": {},
   "outputs": [
    {
     "name": "stderr",
     "output_type": "stream",
     "text": [
      "<ipython-input-5-493784f5b3d7>:23: DeprecationWarning: `np.float` is a deprecated alias for the builtin `float`. To silence this warning, use `float` by itself. Doing this will not modify any behavior and is safe. If you specifically wanted the numpy scalar type, use `np.float64` here.\n",
      "Deprecated in NumPy 1.20; for more details and guidance: https://numpy.org/devdocs/release/1.20.0-notes.html#deprecations\n",
      "  J1[i][j] = np.float(J[i][j](teta_V[0][0],teta_V[1][0],teta_V[2][0]))\n"
     ]
    }
   ],
   "source": [
    "# Vetor inicial\n",
    "\n",
    "teta2_inicial, teta3_inicial, V3_inicial = 0, 0, 1 # Chute inicial\n",
    "teta_V = [[teta2_inicial], \n",
    "          [teta3_inicial],\n",
    "          [V3_inicial]]\n",
    "\n",
    "Delta_teta_V = [[0], \n",
    "                [0], \n",
    "                [0]]\n",
    "\n",
    "# Erro\n",
    "Ep = 0.001\n",
    "Eq = 0.001\n",
    "\n",
    "# Numeros de iterações\n",
    "Iteracao = 0\n",
    "Max_Iteracao = 10\n",
    "\n",
    "J1 = [[0,0,0],[0,0,0],[0,0,0]]\n",
    "for i in range(len(J)):\n",
    "    for j in range(len(J)):\n",
    "        J1[i][j] = np.float(J[i][j](teta_V[0][0],teta_V[1][0],teta_V[2][0]))\n",
    "J_inv = np.linalg.inv(J1)\n"
   ]
  },
  {
   "cell_type": "code",
   "execution_count": 6,
   "metadata": {},
   "outputs": [],
   "source": [
    "def Imprime(Iteracao, teta_V, Delta_P_Q, J, J_inv, Delta_teta_V):\n",
    "    # Estado inicial\n",
    "    print('Iteração: ', Iteracao)\n",
    "    for i in range(len(teta_V)):\n",
    "        print('teta_V[',i+1,'] = ', teta_V[i][0])\n",
    "    print('\\n')\n",
    "    for i in range(len(Delta_P_Q)):\n",
    "        print('Delta_P_Q[',i+1,'] = ', Delta_P_Q[i][0](teta_V[0][0],teta_V[1][0],teta_V[2][0]))\n",
    "    print('\\n')\n",
    "    for i in range(len(J)):\n",
    "        for j in range(len(J)):\n",
    "            print('J[',i+1,'][',j+1,'] = ', J[i][j](teta_V[0][0],teta_V[1][0],teta_V[2][0]))\n",
    "    print('\\n')\n",
    "    for i in range(len(J_inv)):\n",
    "        for j in range(len(J_inv)):\n",
    "            print('J_inv[',i+1,'][',j+1,'] = ', J_inv[i][j])\n",
    "        print('\\n')\n",
    "    print('\\n')\n",
    "    for i in range(len(Delta_teta_V)):\n",
    "        print('Delta_teta_V[',i+1,'] = ', Delta_teta_V[i][0])\n",
    "    print('\\n')\n"
   ]
  },
  {
   "cell_type": "code",
   "execution_count": 7,
   "metadata": {},
   "outputs": [
    {
     "name": "stdout",
     "output_type": "stream",
     "text": [
      "Iteração:  0\n",
      "teta_V[ 1 ] =  0\n",
      "teta_V[ 2 ] =  0\n",
      "teta_V[ 3 ] =  1\n",
      "\n",
      "\n",
      "Delta_P_Q[ 1 ] =  0.200000000000000\n",
      "Delta_P_Q[ 2 ] =  -0.150000000000000\n",
      "Delta_P_Q[ 3 ] =  0.0500000000000000\n",
      "\n",
      "\n",
      "J[ 1 ][ 1 ] =  -4.57458148269583\n",
      "J[ 1 ][ 2 ] =  1.24956070131594\n",
      "J[ 1 ][ 3 ] =  0.0234292631496739\n",
      "J[ 2 ][ 1 ] =  1.24956070131594\n",
      "J[ 2 ][ 2 ] =  -1.24956070131594\n",
      "J[ 2 ][ 3 ] =  -0.0234292631496739\n",
      "J[ 3 ][ 1 ] =  -0.0234292631496739\n",
      "J[ 3 ][ 2 ] =  0.0234292631496739\n",
      "J[ 3 ][ 3 ] =  -1.24956070131594\n",
      "\n",
      "\n",
      "J_inv[ 1 ][ 1 ] =  -0.30074999999999996\n",
      "J_inv[ 1 ][ 2 ] =  -0.3007499999999999\n",
      "J_inv[ 1 ][ 3 ] =  3.525512960640671e-19\n",
      "\n",
      "\n",
      "J_inv[ 2 ][ 1 ] =  -0.30075\n",
      "J_inv[ 2 ][ 2 ] =  -1.10075\n",
      "J_inv[ 2 ][ 3 ] =  0.015000000000000001\n",
      "\n",
      "\n",
      "J_inv[ 3 ][ 1 ] =  6.322265265609794e-19\n",
      "J_inv[ 3 ][ 2 ] =  -0.015\n",
      "J_inv[ 3 ][ 3 ] =  -0.8000000000000002\n",
      "\n",
      "\n",
      "\n",
      "\n",
      "Delta_teta_V[ 1 ] =  0\n",
      "Delta_teta_V[ 2 ] =  0\n",
      "Delta_teta_V[ 3 ] =  0\n",
      "\n",
      "\n",
      "Iteração:  1\n",
      "teta_V[ 1 ] =  0.0150375000000000\n",
      "teta_V[ 2 ] =  -0.105712500000000\n",
      "teta_V[ 3 ] =  1.03775000000000\n",
      "\n",
      "\n",
      "Delta_P_Q[ 1 ] =  -0.00550961128383559\n",
      "Delta_P_Q[ 2 ] =  0.00510523381581190\n",
      "Delta_P_Q[ 3 ] =  -0.0113224280209231\n",
      "\n",
      "\n",
      "J[ 1 ][ 1 ] =  -4.61736306940840\n",
      "J[ 1 ][ 2 ] =  1.29021831266273\n",
      "J[ 1 ][ 3 ] =  -0.127259393860543\n",
      "J[ 2 ][ 1 ] =  1.28436080834129\n",
      "J[ 2 ][ 2 ] =  -1.28436080834129\n",
      "J[ 2 ][ 3 ] =  0.125149287529771\n",
      "J[ 3 ][ 1 ] =  -0.180336794497603\n",
      "J[ 3 ][ 2 ] =  0.180336794497603\n",
      "J[ 3 ][ 3 ] =  -1.35582333354193\n",
      "\n",
      "\n",
      "J_inv[ 1 ][ 1 ] =  -0.30074999999999996\n",
      "J_inv[ 1 ][ 2 ] =  -0.3007499999999999\n",
      "J_inv[ 1 ][ 3 ] =  3.525512960640671e-19\n",
      "\n",
      "\n",
      "J_inv[ 2 ][ 1 ] =  -0.30075\n",
      "J_inv[ 2 ][ 2 ] =  -1.10075\n",
      "J_inv[ 2 ][ 3 ] =  0.015000000000000001\n",
      "\n",
      "\n",
      "J_inv[ 3 ][ 1 ] =  6.322265265609794e-19\n",
      "J_inv[ 3 ][ 2 ] =  -0.015\n",
      "J_inv[ 3 ][ 3 ] =  -0.8000000000000002\n",
      "\n",
      "\n",
      "\n",
      "\n",
      "Delta_teta_V[ 1 ] =  -0.0150375000000000\n",
      "Delta_teta_V[ 2 ] =  0.105712500000000\n",
      "Delta_teta_V[ 3 ] =  -0.0377500000000000\n",
      "\n",
      "\n",
      "Iteração:  2\n",
      "teta_V[ 1 ] =  0.0149266256315756\n",
      "teta_V[ 2 ] =  -0.102620669063657\n",
      "teta_V[ 3 ] =  1.02982502766273\n",
      "\n",
      "\n",
      "Delta_P_Q[ 1 ] =  -3.08918257509727e-5\n",
      "Delta_P_Q[ 2 ] =  2.90306495082659e-5\n",
      "Delta_P_Q[ 3 ] =  -8.94273026674844e-5\n",
      "\n",
      "\n",
      "J[ 1 ][ 1 ] =  -4.60791033063647\n",
      "J[ 1 ][ 2 ] =  1.28077848172668\n",
      "J[ 1 ][ 3 ] =  -0.123276874681507\n",
      "J[ 2 ][ 1 ] =  1.27511916355280\n",
      "J[ 2 ][ 2 ] =  -1.27511916355280\n",
      "J[ 2 ][ 3 ] =  0.121555959710046\n",
      "J[ 3 ][ 1 ] =  -0.174876691728048\n",
      "J[ 3 ][ 2 ] =  0.174876691728048\n",
      "J[ 3 ][ 3 ] =  -1.33546765830646\n",
      "\n",
      "\n",
      "J_inv[ 1 ][ 1 ] =  -0.3005580078752308\n",
      "J_inv[ 1 ][ 2 ] =  -0.30188020133056886\n",
      "J_inv[ 1 ][ 3 ] =  0.0003457218759061204\n",
      "\n",
      "\n",
      "J_inv[ 2 ][ 1 ] =  -0.3005580078752308\n",
      "J_inv[ 2 ][ 2 ] =  -1.090701145406066\n",
      "J_inv[ 2 ][ 3 ] =  -0.0724664039352898\n",
      "\n",
      "\n",
      "J_inv[ 3 ][ 1 ] =  3.024676405325136e-18\n",
      "J_inv[ 3 ][ 2 ] =  -0.1049203365718215\n",
      "J_inv[ 3 ][ 3 ] =  -0.7472438925524764\n",
      "\n",
      "\n",
      "\n",
      "\n",
      "Delta_teta_V[ 1 ] =  0.000110874368424386\n",
      "Delta_teta_V[ 2 ] =  -0.00309183093634285\n",
      "Delta_teta_V[ 3 ] =  0.00792497233726698\n",
      "\n",
      "\n"
     ]
    },
    {
     "name": "stderr",
     "output_type": "stream",
     "text": [
      "<ipython-input-7-df58b2d5e248>:17: DeprecationWarning: `np.float` is a deprecated alias for the builtin `float`. To silence this warning, use `float` by itself. Doing this will not modify any behavior and is safe. If you specifically wanted the numpy scalar type, use `np.float64` here.\n",
      "Deprecated in NumPy 1.20; for more details and guidance: https://numpy.org/devdocs/release/1.20.0-notes.html#deprecations\n",
      "  J1[i][j] = np.float(J[i][j](teta_V[0][0],teta_V[1][0],teta_V[2][0]))\n"
     ]
    }
   ],
   "source": [
    "# Algoritmo de Newton-Raphson\n",
    "Imprime(Iteracao, teta_V, Delta_P_Q, J, J_inv, Delta_teta_V)\n",
    "while (Iteracao < Max_Iteracao):\n",
    "    Iteracao += 1\n",
    "    for i in range(len(Delta_teta_V)):\n",
    "        Delta_teta_V[i][0] = 0\n",
    "    for i in range(len(Delta_teta_V)):\n",
    "        for j in range(len(Delta_P_Q)):\n",
    "            Delta_teta_V[i][0] += J_inv[i][j]*Delta_P_Q[j][0](teta_V[0][0],teta_V[1][0],teta_V[2][0])\n",
    "    for i in range(len(Delta_teta_V)):\n",
    "        teta_V[i][0] -= Delta_teta_V[i][0]\n",
    "    if (abs(Delta_teta_V[0][0]) < Ep and abs(Delta_teta_V[1][0]) < Ep and abs(Delta_teta_V[2][0]) < Eq):\n",
    "        break\n",
    "    Imprime(Iteracao, teta_V, Delta_P_Q, J,J_inv, Delta_teta_V)\n",
    "    for i in range(len(J)):\n",
    "        for j in range(len(J)):\n",
    "            J1[i][j] = np.float(J[i][j](teta_V[0][0],teta_V[1][0],teta_V[2][0]))\n",
    "    J_inv = np.linalg.inv(J1)"
   ]
  },
  {
   "cell_type": "code",
   "execution_count": 8,
   "metadata": {},
   "outputs": [
    {
     "name": "stdout",
     "output_type": "stream",
     "text": [
      "[[0.0149261279700415], [-0.102604576163412], [1.02976023687610]]\n",
      "\n",
      "Delta_P_Q[ 1 ] =  -0.049609323747161926\n",
      "\n",
      "Delta_P_Q[ 2 ] =  0.002851774787279826\n",
      "\n",
      "Delta_P_Q[ 3 ] =  -0.03325031647075671\n"
     ]
    },
    {
     "name": "stderr",
     "output_type": "stream",
     "text": [
      "<ipython-input-8-442439a613ca>:14: DeprecationWarning: `np.float` is a deprecated alias for the builtin `float`. To silence this warning, use `float` by itself. Doing this will not modify any behavior and is safe. If you specifically wanted the numpy scalar type, use `np.float64` here.\n",
      "Deprecated in NumPy 1.20; for more details and guidance: https://numpy.org/devdocs/release/1.20.0-notes.html#deprecations\n",
      "  print('\\nDelta_P_Q[',i+1,'] = ', np.float(Resp[i][0](teta_V[0][0],teta_V[1][0],teta_V[2][0])))\n"
     ]
    }
   ],
   "source": [
    "P1 = Lambda((teta2,teta3,V3), V1*(V2*(G[0,1]*cos(teta1 - teta2) + B[0,1]*sin(teta1-teta2)) + \n",
    "                                  V1*(G[0,0]*cos(teta1 - teta1) + B[0,0]*sin(teta1-teta1))))\n",
    "\n",
    "Q1 = Lambda((teta2,teta3,V3), V1*(V2*(G[0,1]*sin(teta1 - teta2) - B[0,1]*cos(teta1-teta2)) +\n",
    "                                  V1*(G[0,0]*sin(teta1 - teta1) - B[0,0]*cos(teta1-teta1))))\n",
    "\n",
    "Q2 = Lambda((teta2,teta3,V3), V2*(V1*(G[1,0]*sin(teta2 - teta1) - B[1,0]*cos(teta2-teta1)) +\n",
    "                                  V2*(G[1,1]*sin(teta2 - teta2) - B[1,1]*cos(teta2-teta2)) + \n",
    "                                  V3*(G[1,2]*sin(teta2 - teta3) - B[1,2]*cos(teta2-teta3)) ))\n",
    "\n",
    "Resp = [[P1],[Q1],[Q2]]\n",
    "print(teta_V)\n",
    "for i in range(len(Resp)):\n",
    "    print('\\nDelta_P_Q[',i+1,'] = ', np.float(Resp[i][0](teta_V[0][0],teta_V[1][0],teta_V[2][0])))"
   ]
  }
 ],
 "metadata": {
  "interpreter": {
   "hash": "d012ca61647e472ccba26ea4e2ce3b3982dfcdcbbcaba85753d62c8f1b239abb"
  },
  "kernelspec": {
   "display_name": "Python 3.8.8 ('base')",
   "language": "python",
   "name": "python3"
  },
  "language_info": {
   "codemirror_mode": {
    "name": "ipython",
    "version": 3
   },
   "file_extension": ".py",
   "mimetype": "text/x-python",
   "name": "python",
   "nbconvert_exporter": "python",
   "pygments_lexer": "ipython3",
   "version": "3.8.8"
  },
  "orig_nbformat": 4
 },
 "nbformat": 4,
 "nbformat_minor": 2
}
