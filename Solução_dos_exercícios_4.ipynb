{
 "cells": [
  {
   "cell_type": "code",
   "execution_count": 2,
   "metadata": {},
   "outputs": [],
   "source": [
    "import numpy as np\n",
    "from sympy import var, Lambda, exp, log, sin, cos, tan, sqrt, ln\n",
    "from math import inf\n",
    "from fractions import Fraction\n",
    "import matplotlib.pyplot as plt"
   ]
  },
  {
   "cell_type": "markdown",
   "metadata": {},
   "source": [
    "# Resolvendo exercicios da aula"
   ]
  },
  {
   "cell_type": "markdown",
   "metadata": {},
   "source": [
    "# Fluxo de carga"
   ]
  },
  {
   "cell_type": "code",
   "execution_count": 14,
   "metadata": {},
   "outputs": [
    {
     "name": "stdout",
     "output_type": "stream",
     "text": [
      "Y =  [[ 3.84615385-19.23076923j -3.84615385+19.23076923j]\n",
      " [-3.84615385+19.23076923j  3.84615385-19.23076923j]]\n"
     ]
    }
   ],
   "source": [
    "y12 = -1/(0.01+0.05j)\n",
    "y21 = -1/(0.01+0.05j)\n",
    "\n",
    "y11 = -y12\n",
    "y22 = -y12\n",
    "n = 2 #ordem da matriz\n",
    "\n",
    "#Matriz de admitância\n",
    "Y = np.empty((n), dtype=complex)\n",
    "Y = np.array([[y11, y12],\n",
    "              [y21, y22]])\n",
    "\n",
    "\n",
    "print('Y = ', Y)"
   ]
  },
  {
   "cell_type": "code",
   "execution_count": 3,
   "metadata": {},
   "outputs": [],
   "source": [
    "x,y = var('teta2 V2')\n",
    "\n",
    "Pk = Lambda((teta2, V2), )\n",
    "#x = [[tetan], [Vn]] em rad e pu\n",
    "x0 = np.zeros((2,1))\n",
    "x0[0,0] = 0\n",
    "x0[1,0] = 1\n",
    "\n",
    "#x = [[DeltaP], [DeltaQ]] em pu\n",
    "y0 = np.zeros((2,1))\n",
    "y0[0,0] = 0\n",
    "y0[1,0] = 0\n"
   ]
  },
  {
   "cell_type": "code",
   "execution_count": 4,
   "metadata": {},
   "outputs": [
    {
     "name": "stdout",
     "output_type": "stream",
     "text": [
      "[[0.]\n",
      " [1.]]\n"
     ]
    }
   ],
   "source": []
  },
  {
   "cell_type": "code",
   "execution_count": 7,
   "metadata": {},
   "outputs": [],
   "source": [
    "y12 = complex(0.012, 0.3)**(-1)\n",
    "y23 = complex(0.011, 0.8)**(-1)\n",
    "\n",
    "Y = [[y12, -y12, 0],\n",
    "     [-y12, y12 + y23, -y23],\n",
    "     [0, -y23, y23]]"
   ]
  }
 ],
 "metadata": {
  "interpreter": {
   "hash": "d012ca61647e472ccba26ea4e2ce3b3982dfcdcbbcaba85753d62c8f1b239abb"
  },
  "kernelspec": {
   "display_name": "Python 3.8.8 ('base')",
   "language": "python",
   "name": "python3"
  },
  "language_info": {
   "codemirror_mode": {
    "name": "ipython",
    "version": 3
   },
   "file_extension": ".py",
   "mimetype": "text/x-python",
   "name": "python",
   "nbconvert_exporter": "python",
   "pygments_lexer": "ipython3",
   "version": "3.8.8"
  },
  "orig_nbformat": 4
 },
 "nbformat": 4,
 "nbformat_minor": 2
}
