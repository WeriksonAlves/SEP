{
 "cells": [
  {
   "cell_type": "markdown",
   "metadata": {},
   "source": [
    "Autor: Werikson Alves\n",
    "\n",
    "Codigo para calulo para fluxo de potencias pelo metodo de Newton-Raphson"
   ]
  },
  {
   "cell_type": "code",
   "execution_count": 1,
   "metadata": {},
   "outputs": [],
   "source": [
    "import numpy as np\n",
    "from sympy import * #var, Lambda, exp, log, sin, cos, tan, sqrt, ln"
   ]
  },
  {
   "cell_type": "markdown",
   "metadata": {},
   "source": [
    "Parametros relacionados com a impedancia"
   ]
  },
  {
   "cell_type": "code",
   "execution_count": 2,
   "metadata": {},
   "outputs": [
    {
     "name": "stdout",
     "output_type": "stream",
     "text": [
      "\n",
      "Y =  [[ 0.16625104-3.32502078j -0.16625104+3.32502078j  0.        +0.j        ]\n",
      " [-0.16625104+3.32502078j  0.1896803 -4.57458148j -0.02342926+1.2495607j ]\n",
      " [ 0.        +0.j         -0.02342926+1.2495607j   0.02342926-1.2495607j ]]\n",
      "\n",
      "G =  [[ 0.16625104 -0.16625104  0.        ]\n",
      " [-0.16625104  0.1896803  -0.02342926]\n",
      " [ 0.         -0.02342926  0.02342926]]\n",
      "\n",
      "B =  [[-3.32502078  3.32502078  0.        ]\n",
      " [ 3.32502078 -4.57458148  1.2495607 ]\n",
      " [ 0.          1.2495607  -1.2495607 ]]\n"
     ]
    }
   ],
   "source": [
    "#Dados iniciais\n",
    "Barras = 3\n",
    "Impedancias = 2\n",
    "\n",
    "#                [      Tipo, V, teta,   P,   Q]\n",
    "Matriz_Barras = [[1, 'VTeta', 1,   0,  '?',   '?'],\n",
    "                 [2, 'PV',    1, '?',  0.2,   '?'],\n",
    "                 [3, 'PQ',  '?', '?', -0.15, 0.05]]\n",
    "\n",
    "#                [     k, m, Z_km]\n",
    "Matriz_Impedancias = [[1, 2, complex(0.015, 0.3)],\n",
    "                      [2, 3, complex(0.015, 0.8)]]\n",
    "\n",
    "y11 =  (Matriz_Impedancias[0][2])**(-1)\n",
    "y12 = -(Matriz_Impedancias[0][2])**(-1)\n",
    "y13 =  0\n",
    "y21 =  y12\n",
    "y22 =  (Matriz_Impedancias[0][2])**(-1) + (Matriz_Impedancias[1][2])**(-1)\n",
    "y23 = -(Matriz_Impedancias[1][2])**(-1)\n",
    "y31 =  y13\n",
    "y32 =  y23\n",
    "y33 =  (Matriz_Impedancias[1][2])**(-1)\n",
    "\n",
    "Y = np.array([[y11, y12,y13], [y21, y22, y23], [y31, y32, y33]])\n",
    "G = Y.real\n",
    "B = Y.imag\n",
    "\n",
    "print('\\nY = ', Y)\n",
    "print('\\nG = ', G)\n",
    "print('\\nB = ', B)"
   ]
  },
  {
   "cell_type": "markdown",
   "metadata": {},
   "source": [
    "Parametros relacionados com as potencias"
   ]
  },
  {
   "cell_type": "code",
   "execution_count": 13,
   "metadata": {},
   "outputs": [
    {
     "name": "stdout",
     "output_type": "stream",
     "text": [
      "\n",
      "Delta_P_Q[ 1 ] =  [-V3*(1.24956070131594*sin(teta2 - teta3) - 0.0234292631496739*cos(teta2 - teta3)) - 3.32502078137988*sin(teta2) + 0.166251039068994*cos(teta2) + 0.0103196977813318]\n",
      "\n",
      "Delta_P_Q[ 2 ] =  [-V3*(0.0234292631496739*V3 - 1.24956070131594*sin(teta2 - teta3) - 0.0234292631496739*cos(teta2 - teta3)) - 0.15]\n",
      "\n",
      "Delta_P_Q[ 3 ] =  [-V3*(1.24956070131594*V3 + 0.0234292631496739*sin(teta2 - teta3) - 1.24956070131594*cos(teta2 - teta3)) + 0.05]\n"
     ]
    }
   ],
   "source": [
    "#Variáveis de entrada\n",
    "teta2,teta3,V3 = var('teta2 teta3 V3')\n",
    "teta1, V1, V2 = 0, 1, 1\n",
    "\n",
    "# Potências esperadas nas barras \n",
    "P_esp_2 = Matriz_Barras[1][4]\n",
    "P_esp_3 = Matriz_Barras[2][4]\n",
    "Q_esp_3 = Matriz_Barras[2][5]\n",
    "\n",
    "# Vetor de potencias\n",
    "P2 = Lambda((teta2,teta3,V3), V2*( V1*(G[1,0]*cos(teta2-teta1) + B[1,0]*sin(teta2-teta1)) +\n",
    "                                   V3*(G[1,2]*cos(teta2-teta3) + B[1,2]*sin(teta2-teta3)) + \n",
    "                                   V2*(G[1,1]*cos(teta2-teta2) + B[1,1]*sin(teta2-teta2)) ))\n",
    "\n",
    "P3 = Lambda((teta2,teta3,V3), V3*( V3*(G[2,2]*cos(teta3-teta3) + B[2,2]*sin(teta3-teta3)) + \n",
    "                                   V2*(G[2,1]*cos(teta3-teta2) + B[2,1]*sin(teta3-teta2)) ))\n",
    "\n",
    "Q3 = Lambda((teta2,teta3,V3), V3*( V3*(G[2,2]*sin(teta3-teta3) - B[2,2]*cos(teta3-teta3)) + \n",
    "                                   V2*(G[2,1]*sin(teta3-teta2) - B[2,1]*cos(teta3-teta2)) ))\n",
    "\n",
    "Delta_P_Q = np.array([[P_esp_2 - P2(teta2,teta3,V3)], \n",
    "                      [P_esp_3 - P3(teta2,teta3,V3)], \n",
    "                      [Q_esp_3 - Q3(teta2,teta3,V3)]])\n",
    "\n",
    "for i in range(len(Delta_P_Q)):\n",
    "    print('\\nDelta_P_Q[',i+1,'] = ', Delta_P_Q[i])"
   ]
  },
  {
   "cell_type": "markdown",
   "metadata": {},
   "source": [
    "Parametros relacionados com a Jacobiana"
   ]
  },
  {
   "cell_type": "code",
   "execution_count": 4,
   "metadata": {},
   "outputs": [
    {
     "name": "stdout",
     "output_type": "stream",
     "text": [
      "J[ 1 ][ 1 ] =  -V3*(0.0234292631496739*sin(teta2 - teta3) + 1.24956070131594*cos(teta2 - teta3)) - 0.166251039068994*sin(teta2) - 3.32502078137988*cos(teta2)\n",
      "J[ 1 ][ 2 ] =  -V3*(-0.0234292631496739*sin(teta2 - teta3) - 1.24956070131594*cos(teta2 - teta3))\n",
      "J[ 1 ][ 3 ] =  -1.24956070131594*sin(teta2 - teta3) + 0.0234292631496739*cos(teta2 - teta3)\n",
      "\n",
      "\n",
      "J[ 2 ][ 1 ] =  -V3*(0.0234292631496739*sin(teta2 - teta3) - 1.24956070131594*cos(teta2 - teta3))\n",
      "J[ 2 ][ 2 ] =  -V3*(-0.0234292631496739*sin(teta2 - teta3) + 1.24956070131594*cos(teta2 - teta3))\n",
      "J[ 2 ][ 3 ] =  -0.0468585262993479*V3 + 1.24956070131594*sin(teta2 - teta3) + 0.0234292631496739*cos(teta2 - teta3)\n",
      "\n",
      "\n",
      "J[ 3 ][ 1 ] =  -V3*(1.24956070131594*sin(teta2 - teta3) + 0.0234292631496739*cos(teta2 - teta3))\n",
      "J[ 3 ][ 2 ] =  -V3*(-1.24956070131594*sin(teta2 - teta3) - 0.0234292631496739*cos(teta2 - teta3))\n",
      "J[ 3 ][ 3 ] =  -2.49912140263189*V3 - 0.0234292631496739*sin(teta2 - teta3) + 1.24956070131594*cos(teta2 - teta3)\n",
      "\n",
      "\n"
     ]
    }
   ],
   "source": [
    "# Matriz Jacobiana\n",
    "j11 = Lambda((teta2,teta3,V3), diff(P_esp_2 - P2(teta2,teta3,V3),teta2))\n",
    "j12 = Lambda((teta2,teta3,V3), diff(P_esp_2 - P2(teta2,teta3,V3),teta3))\n",
    "j13 = Lambda((teta2,teta3,V3), diff(P_esp_2 - P2(teta2,teta3,V3),V3))\n",
    "\n",
    "j21 = Lambda((teta2,teta3,V3), diff(P_esp_3 - P3(teta2,teta3,V3),teta2))\n",
    "j22 = Lambda((teta2,teta3,V3), diff(P_esp_3 - P3(teta2,teta3,V3),teta3))\n",
    "j23 = Lambda((teta2,teta3,V3), diff(P_esp_3 - P3(teta2,teta3,V3),V3))\n",
    "\n",
    "j31 = Lambda((teta2,teta3,V3), diff(Q_esp_3 - Q3(teta2,teta3,V3),teta2))\n",
    "j32 = Lambda((teta2,teta3,V3), diff(Q_esp_3 - Q3(teta2,teta3,V3),teta3))\n",
    "j33 = Lambda((teta2,teta3,V3), diff(Q_esp_3 - Q3(teta2,teta3,V3),V3))\n",
    "\n",
    "J = np.array([[j11(teta2,teta3,V3), j12(teta2,teta3,V3), j13(teta2,teta3,V3)],\n",
    "              [j21(teta2,teta3,V3), j22(teta2,teta3,V3), j23(teta2,teta3,V3)],\n",
    "              [j31(teta2,teta3,V3), j32(teta2,teta3,V3), j33(teta2,teta3,V3)]])\n",
    "\n",
    "for i in range(len(J)):\n",
    "    for j in range(len(J)):\n",
    "        print('J[',i+1,'][',j+1,'] = ', J[i][j])\n",
    "    print('\\n')\n"
   ]
  },
  {
   "cell_type": "code",
   "execution_count": 29,
   "metadata": {},
   "outputs": [
    {
     "name": "stdout",
     "output_type": "stream",
     "text": [
      "\n",
      "Iteração:  0\n",
      "\n",
      "X[ 1 ] =  [0]\n",
      "\n",
      "X[ 2 ] =  [0]\n",
      "\n",
      "X[ 3 ] =  [1]\n",
      "\n",
      "Delta_teta_V[ 1 ] =  [teta2]\n",
      "\n",
      "Delta_teta_V[ 2 ] =  [teta3]\n",
      "\n",
      "Delta_teta_V[ 3 ] =  [V3 + 1]\n",
      "\n",
      "Delta_P_Q[ 1 ]=  [-V3*(1.24956070131594*sin(teta2 - teta3) - 0.0234292631496739*cos(teta2 - teta3)) - 3.32502078137988*sin(teta2) + 0.166251039068994*cos(teta2) + 0.0103196977813318]\n",
      "\n",
      "Delta_P_Q[ 2 ]=  [-V3*(0.0234292631496739*V3 - 1.24956070131594*sin(teta2 - teta3) - 0.0234292631496739*cos(teta2 - teta3)) - 0.15]\n",
      "\n",
      "Delta_P_Q[ 3 ]=  [-V3*(1.24956070131594*V3 + 0.0234292631496739*sin(teta2 - teta3) - 1.24956070131594*cos(teta2 - teta3)) + 0.05]\n",
      "J[ 1 ][ 1 ] =  -V3*(0.0234292631496739*sin(teta2 - teta3) + 1.24956070131594*cos(teta2 - teta3)) - 0.166251039068994*sin(teta2) - 3.32502078137988*cos(teta2)\n",
      "J[ 1 ][ 2 ] =  -V3*(-0.0234292631496739*sin(teta2 - teta3) - 1.24956070131594*cos(teta2 - teta3))\n",
      "J[ 1 ][ 3 ] =  -1.24956070131594*sin(teta2 - teta3) + 0.0234292631496739*cos(teta2 - teta3)\n",
      "J[ 2 ][ 1 ] =  -V3*(0.0234292631496739*sin(teta2 - teta3) - 1.24956070131594*cos(teta2 - teta3))\n",
      "J[ 2 ][ 2 ] =  -V3*(-0.0234292631496739*sin(teta2 - teta3) + 1.24956070131594*cos(teta2 - teta3))\n",
      "J[ 2 ][ 3 ] =  -0.0468585262993479*V3 + 1.24956070131594*sin(teta2 - teta3) + 0.0234292631496739*cos(teta2 - teta3)\n",
      "J[ 3 ][ 1 ] =  -V3*(1.24956070131594*sin(teta2 - teta3) + 0.0234292631496739*cos(teta2 - teta3))\n",
      "J[ 3 ][ 2 ] =  -V3*(-1.24956070131594*sin(teta2 - teta3) - 0.0234292631496739*cos(teta2 - teta3))\n",
      "J[ 3 ][ 3 ] =  -2.49912140263189*V3 - 0.0234292631496739*sin(teta2 - teta3) + 1.24956070131594*cos(teta2 - teta3)\n"
     ]
    }
   ],
   "source": [
    "# Vetor inicial\n",
    "# teta2, teta3, V3 = 0, 0, 1\n",
    "teta2_inicial, teta3_inicial, V3_inicial = 0, 0, 1\n",
    "X = np.array([[teta2_inicial], \n",
    "              [teta3_inicial],\n",
    "              [V3_inicial]])\n",
    "\n",
    "Delta_teta_V = np.array([[teta2_inicial + teta2], \n",
    "                         [teta3_inicial + teta3], \n",
    "                         [V3_inicial + V3]])\n",
    "\n",
    "# Erro\n",
    "Ep = 0.001\n",
    "Eq = 0.001\n",
    "\n",
    "# Numeros de iterações\n",
    "iteracao = 0\n",
    "'''print('\\nIteração: ', iteracao)\n",
    "print('\\nX = ', X)\n",
    "print('\\nDelta_teta_V = ', Delta_teta_V)\n",
    "print('\\nDelta_P_Q = ', Delta_P_Q)\n",
    "print('\\nJ = ', J)'''\n",
    "\n",
    "print('\\nIteração: ', iteracao)\n",
    "for i in range(len(X)):\n",
    "    print('\\nX[',i+1,'] = ', X[i])\n",
    "for i in range(len(Delta_teta_V)):\n",
    "    print('\\nDelta_teta_V[',i+1,'] = ', Delta_teta_V[i])\n",
    "for i in range(len(Delta_P_Q)):\n",
    "    print('\\nDelta_P_Q[',i+1,']= ', Delta_P_Q[i])\n",
    "for i in range(len(J)):\n",
    "    for j in range(len(J)):\n",
    "        print('J[',i+1,'][',j+1,'] = ', J[i][j])"
   ]
  },
  {
   "cell_type": "code",
   "execution_count": null,
   "metadata": {},
   "outputs": [],
   "source": [
    "#Algoritmo de Newton-Raphson\n",
    "while(True):\n",
    "    iteracao += 1\n",
    "    print('\\nIteração: ', iteracao)\n",
    "    print('\\nX = ', X)\n",
    "    print('\\nDelta_teta_V = ', Delta_teta_V)\n",
    "    print('\\nDelta_P_Q = ', Delta_P_Q)\n",
    "    print('\\nJ = ', J)\n",
    "\n",
    "    # Resposta\n",
    "    #X_resp = X - np.dot(np.linalg.inv(J), Delta_P_Q)\n",
    "    X_resp = X - np.matmul(np.invert(J),Delta_P_Q)\n",
    "    print('\\nX_resp = ', X_resp)\n",
    "\n",
    "    # Erro\n",
    "    Erro_teta_V = np.linalg.norm(Delta_teta_V - X_resp[0:3])\n",
    "    Erro_P_Q = np.linalg.norm(Delta_P_Q)\n",
    "\n",
    "    print('\\nErro_teta_V = ', Erro_teta_V)\n",
    "    print('\\nErro_P_Q = ', Erro_P_Q)\n",
    "\n",
    "    # Verificação do erro\n",
    "    if Erro_teta_V < Ep and Erro_P_Q < Eq:\n",
    "        break\n",
    "    else:\n",
    "        X = X_resp"
   ]
  }
 ],
 "metadata": {
  "interpreter": {
   "hash": "d012ca61647e472ccba26ea4e2ce3b3982dfcdcbbcaba85753d62c8f1b239abb"
  },
  "kernelspec": {
   "display_name": "Python 3.8.8 ('base')",
   "language": "python",
   "name": "python3"
  },
  "language_info": {
   "codemirror_mode": {
    "name": "ipython",
    "version": 3
   },
   "file_extension": ".py",
   "mimetype": "text/x-python",
   "name": "python",
   "nbconvert_exporter": "python",
   "pygments_lexer": "ipython3",
   "version": "3.8.8"
  },
  "orig_nbformat": 4
 },
 "nbformat": 4,
 "nbformat_minor": 2
}
